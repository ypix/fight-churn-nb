{
 "cells": [
  {
   "cell_type": "markdown",
   "metadata": {},
   "source": [
    "## Install churnmodels\n",
    "got to the project root folder \n",
    "run \n",
    "> python setup.py sdist\n",
    "\n",
    "a new package will be created and stored in the subfolder \"./dist\"\n",
    "\n",
    "now run pip install, e.g.:\n",
    "> pip install dist/churnmodels-0.0.1.tar.gz\n"
   ]
  },
  {
   "cell_type": "code",
   "execution_count": 1,
   "metadata": {},
   "outputs": [
    {
     "name": "stdout",
     "output_type": "stream",
     "text": [
      "0.0.4\n"
     ]
    }
   ],
   "source": [
    "import churnmodels\n",
    "print(churnmodels.__version__)\n",
    "# expected outcome : the actual version number"
   ]
  },
  {
   "cell_type": "markdown",
   "metadata": {},
   "source": [
    "## Open a DB session"
   ]
  },
  {
   "cell_type": "code",
   "execution_count": 2,
   "metadata": {},
   "outputs": [],
   "source": [
    "import os\n",
    "from sqlalchemy import create_engine\n",
    "from sqlalchemy.orm import sessionmaker\n",
    "\n",
    "from churnmodels.schema import Subscription, Event, Account\n",
    "\n",
    "# the following example will depend on a sqlite db\n",
    "sqlfile=\"c:/tmp/churn.db\"\n",
    "engine = create_engine(f\"sqlite:///{sqlfile}\")\n",
    "session = sessionmaker(bind=engine)()\n"
   ]
  },
  {
   "cell_type": "markdown",
   "metadata": {},
   "source": [
    "## Net Retention (§2.1)\n"
   ]
  },
  {
   "cell_type": "code",
   "execution_count": 3,
   "metadata": {},
   "outputs": [
    {
     "name": "stdout",
     "output_type": "stream",
     "text": [
      "            total_mrr\n",
      "account_id           \n",
      "86               50.0\n",
      "117              50.0\n",
      "158              50.0\n",
      "163              50.0\n",
      "220              50.0\n",
      "...               ...\n",
      "9889            100.0\n",
      "9912             50.0\n",
      "9923            100.0\n",
      "9924             50.0\n",
      "9990             50.0\n",
      "\n",
      "[328 rows x 1 columns]\n"
     ]
    }
   ],
   "source": [
    "from sqlalchemy import func, or_\n",
    "from churnmodels.schema import Subscription, Event\n",
    "import pandas as pd\n",
    "\n",
    "d_start_date = \"2020-01-01\"\n",
    "d_end_date = \"2020-03-01\"\n",
    "\n",
    "\"\"\"\n",
    "-- PostGres SQL for start_accounts: \n",
    "    select  account_id, sum (mrr) as total_mrr    \n",
    "    from subscription s inner join date_range d on\n",
    "        s.start_date <= d.start_date    \n",
    "        and (s.end_date > d.start_date or s.end_date is null)\n",
    "    group by account_id    \n",
    "\"\"\"\n",
    "\n",
    "# I) start_accounts\n",
    "q_start_accounts = session.query(Subscription.account_id, func.sum(Subscription.mrr).label(\"total_mrr\"))\\\n",
    "    .filter(\n",
    "            # SQL: s.start_date <= d.start_date\n",
    "        Subscription.start_date <= d_start_date,\n",
    "            # SQL: s.end_date > d.start_date or s.end_date is null\n",
    "        or_(Subscription.end_date > d_start_date, Subscription.end_date == None))\\\n",
    "    .group_by(Subscription.account_id) # SQL: group by account_id\n",
    "# getting the result from the DB stored into a pandas DataFrame\n",
    "start_accounts = pd.read_sql(q_start_accounts.statement, engine).set_index(\"account_id\")\n",
    "print(start_accounts)"
   ]
  },
  {
   "cell_type": "code",
   "execution_count": 4,
   "metadata": {},
   "outputs": [
    {
     "name": "stdout",
     "output_type": "stream",
     "text": [
      "            total_mrr\n",
      "account_id           \n",
      "1                50.0\n",
      "2               100.0\n",
      "3                50.0\n",
      "5                50.0\n",
      "6               100.0\n",
      "...               ...\n",
      "11949            50.0\n",
      "11953           100.0\n",
      "11983            50.0\n",
      "11987            50.0\n",
      "12067           200.0\n",
      "\n",
      "[10292 rows x 1 columns]\n"
     ]
    }
   ],
   "source": [
    "# II) end_accounts\n",
    "q_end_accounts = session.query(Subscription.account_id, func.sum(Subscription.mrr).label(\"total_mrr\")).filter(\n",
    "    Subscription.start_date <= d_end_date,\n",
    "    or_(Subscription.end_date > d_end_date, Subscription.end_date == None)).group_by(Subscription.account_id)\n",
    "# q = q.filter(Subscription.account_id==64)\n",
    "end_accounts = pd.read_sql(q_end_accounts.statement, engine).set_index(\"account_id\")\n",
    "print(end_accounts)"
   ]
  },
  {
   "cell_type": "code",
   "execution_count": 5,
   "metadata": {},
   "outputs": [
    {
     "name": "stdout",
     "output_type": "stream",
     "text": [
      "            total_mrr_x  total_mrr_y\n",
      "account_id                          \n",
      "86                 50.0        100.0\n",
      "117                50.0         50.0\n",
      "158                50.0         50.0\n",
      "163                50.0         50.0\n",
      "220                50.0         50.0\n",
      "...                 ...          ...\n",
      "9837              200.0        200.0\n",
      "9870               50.0         50.0\n",
      "9889              100.0        100.0\n",
      "9912               50.0         50.0\n",
      "9990               50.0         50.0\n",
      "\n",
      "[280 rows x 2 columns]\n"
     ]
    }
   ],
   "source": [
    "# III) retained_accounts <- inner join on start_accounts and end_accounts\n",
    "# the line shows how to realize an inner join with pandas:\n",
    "retained_accounts = pd.merge(start_accounts, end_accounts, on=\"account_id\")\n",
    "print(retained_accounts)\n",
    "# the resulting columns total_mrr_x, total_mrr_y are identical"
   ]
  },
  {
   "cell_type": "markdown",
   "metadata": {},
   "source": [
    "Alternatively to the pandas call we can combine all to a single SQL statement\n",
    "If subqueries are large it is more efficient not to store the subselects into pandas DataFrames\n",
    "With sqlalchemy we can simply join two subqueries:"
   ]
  },
  {
   "cell_type": "code",
   "execution_count": 6,
   "metadata": {},
   "outputs": [
    {
     "name": "stdout",
     "output_type": "stream",
     "text": [
      "            total_mrr\n",
      "account_id           \n",
      "86               50.0\n",
      "117              50.0\n",
      "158              50.0\n",
      "163              50.0\n",
      "220              50.0\n",
      "...               ...\n",
      "9837            200.0\n",
      "9870             50.0\n",
      "9889            100.0\n",
      "9912             50.0\n",
      "9990             50.0\n",
      "\n",
      "[280 rows x 1 columns]\n"
     ]
    }
   ],
   "source": [
    "# III) retained_accounts (better alternative)\n",
    "# Alternatively to the pandas call we can combine all to a single SQL statement \n",
    "# If subqueries are large it is more efficient not to store the subselects into pandas DataFrames \n",
    "# With sqlalchemy we can simply join two subqueries:\n",
    "\n",
    "qe_s=q_end_accounts.subquery()\n",
    "q_retained_accounts = q_start_accounts.join(qe_s, Subscription.account_id == qe_s.c.account_id)  #<- see the reference to \"c\" (for columns) of the subquery ⌈object\n",
    "\n",
    "# let's have a look at the SQL statement sqlalchemy produces\n",
    "#print(f\"{qretained.statement}\\n\")\n",
    "\n",
    "# reading into pandas\n",
    "retained_accounts = pd.read_sql(q_retained_accounts.statement, engine).set_index(\"account_id\")\n",
    "print(retained_accounts)\n",
    "                              "
   ]
  },
  {
   "cell_type": "code",
   "execution_count": 7,
   "metadata": {},
   "outputs": [
    {
     "name": "stdout",
     "output_type": "stream",
     "text": [
      "   net_mrr_retention_rate  net_mrr_churn_rate  start_mrr  retain_mrr\n",
      "0                0.858293            0.141707    31050.0     26650.0\n"
     ]
    }
   ],
   "source": [
    "start_mrr = session.query(func.sum(q_start_accounts.subquery().c.total_mrr)).one()[0] or 0\n",
    "retain_mrr = session.query(func.sum(q_retained_accounts.subquery().c.total_mrr)).one()[0] or 0\n",
    "net_mrr_retention_rate=retain_mrr /start_mrr # <- churned\n",
    "net_mrr_churn_rate = 1.0 - retain_mrr /start_mrr # <- \"survived\", i.e. complentary to net_mrr_retention_rate\n",
    "\n",
    "df=pd.DataFrame.from_dict({\n",
    "    \"net_mrr_retention_rate\":[net_mrr_retention_rate],\n",
    "    \"net_mrr_churn_rate\":[net_mrr_churn_rate],\n",
    "    \"start_mrr\":[start_mrr],\n",
    "    \"retain_mrr\":[retain_mrr]\n",
    "})\n",
    "print(df)\n"
   ]
  },
  {
   "cell_type": "markdown",
   "metadata": {},
   "source": [
    "## Churn Rate (§2.2)"
   ]
  },
  {
   "cell_type": "code",
   "execution_count": 8,
   "metadata": {},
   "outputs": [
    {
     "name": "stdout",
     "output_type": "stream",
     "text": [
      "            total_mrr\n",
      "account_id           \n",
      "890              50.0\n",
      "1230             50.0\n",
      "1402             50.0\n",
      "1799             50.0\n",
      "2232             50.0\n",
      "2331             50.0\n",
      "2349             50.0\n",
      "2442            200.0\n",
      "2485            200.0\n",
      "2535             50.0\n",
      "2850            100.0\n",
      "2883            200.0\n",
      "3448            100.0\n",
      "3500             50.0\n",
      "3622            200.0\n",
      "4363             50.0\n",
      "4496            200.0\n",
      "4520             50.0\n",
      "4594             50.0\n",
      "4627             50.0\n",
      "4833             50.0\n",
      "4960            200.0\n",
      "5147             50.0\n",
      "5183            100.0\n",
      "5196             50.0\n",
      "5350            200.0\n",
      "5760             50.0\n",
      "6001            100.0\n",
      "6033            200.0\n",
      "6541             50.0\n",
      "6568            100.0\n",
      "6678             50.0\n",
      "6696             50.0\n",
      "6712            100.0\n",
      "7347            100.0\n",
      "7962             50.0\n",
      "7987             50.0\n",
      "8085            100.0\n",
      "8252            200.0\n",
      "8296             50.0\n",
      "8397             50.0\n",
      "8785            100.0\n",
      "9192            100.0\n",
      "9600            100.0\n",
      "9621            100.0\n",
      "9704             50.0\n",
      "9923            100.0\n",
      "9924             50.0\n"
     ]
    }
   ],
   "source": [
    "# we keep the start and end accounts from above\n",
    "\n",
    "# 2.2.III) churned_accounts <- start_accounts LEFT OUTER JOIN to end_accounts\n",
    "# the line shows how to realize an inner join with pandas:\n",
    "\n",
    "qe_s=q_end_accounts.subquery()\n",
    "q_churned_accounts = q_start_accounts.join(qe_s, Subscription.account_id == qe_s.c.account_id, isouter=True).filter(qe_s.c.account_id == None)\n",
    "\n",
    "# reading into pandas\n",
    "churned_accounts = pd.read_sql(q_churned_accounts.statement, engine).set_index(\"account_id\")\n",
    "print(churned_accounts)\n",
    "\n"
   ]
  },
  {
   "cell_type": "code",
   "execution_count": 9,
   "metadata": {},
   "outputs": [
    {
     "name": "stdout",
     "output_type": "stream",
     "text": [
      "   churn_rate  retention_rate  n_start  n_churn\n",
      "0    0.146341        0.853659      328       48\n"
     ]
    }
   ],
   "source": [
    "\n",
    "n_start = session.query(func.count(q_start_accounts.subquery().c.account_id)).one()[0] or 0\n",
    "n_churn = session.query(func.count(q_churned_accounts.subquery().c.account_id)).one()[0] or 0\n",
    "\n",
    "churn_rate=n_churn /n_start # <- churned\n",
    "retention_rate = 1.0 - n_churn /n_start # <- \"survived\", i.e. complentary = 1-churn_rate\n",
    "\n",
    "df=pd.DataFrame.from_dict({\n",
    "    \"churn_rate\":[churn_rate],\n",
    "    \"retention_rate\":[retention_rate],\n",
    "    \"n_start\":[n_start],\n",
    "    \"n_churn\":[n_churn]\n",
    "})\n",
    "print(df)\n"
   ]
  },
  {
   "cell_type": "markdown",
   "metadata": {},
   "source": [
    "## Activity Churn (§2.3)"
   ]
  },
  {
   "cell_type": "code",
   "execution_count": 10,
   "metadata": {},
   "outputs": [],
   "source": [
    "# not yet"
   ]
  },
  {
   "cell_type": "markdown",
   "metadata": {},
   "source": [
    "## MRR Churn (§2.4)"
   ]
  },
  {
   "cell_type": "code",
   "execution_count": 11,
   "metadata": {},
   "outputs": [
    {
     "data": {
      "text/html": [
       "<div>\n",
       "<style scoped>\n",
       "    .dataframe tbody tr th:only-of-type {\n",
       "        vertical-align: middle;\n",
       "    }\n",
       "\n",
       "    .dataframe tbody tr th {\n",
       "        vertical-align: top;\n",
       "    }\n",
       "\n",
       "    .dataframe thead th {\n",
       "        text-align: right;\n",
       "    }\n",
       "</style>\n",
       "<table border=\"1\" class=\"dataframe\">\n",
       "  <thead>\n",
       "    <tr style=\"text-align: right;\">\n",
       "      <th></th>\n",
       "      <th>downsell_amount</th>\n",
       "    </tr>\n",
       "    <tr>\n",
       "      <th>account_id</th>\n",
       "      <th></th>\n",
       "    </tr>\n",
       "  </thead>\n",
       "  <tbody>\n",
       "    <tr>\n",
       "      <th>336</th>\n",
       "      <td>100.0</td>\n",
       "    </tr>\n",
       "    <tr>\n",
       "      <th>417</th>\n",
       "      <td>100.0</td>\n",
       "    </tr>\n",
       "    <tr>\n",
       "      <th>534</th>\n",
       "      <td>100.0</td>\n",
       "    </tr>\n",
       "    <tr>\n",
       "      <th>748</th>\n",
       "      <td>100.0</td>\n",
       "    </tr>\n",
       "    <tr>\n",
       "      <th>1004</th>\n",
       "      <td>100.0</td>\n",
       "    </tr>\n",
       "    <tr>\n",
       "      <th>1169</th>\n",
       "      <td>100.0</td>\n",
       "    </tr>\n",
       "    <tr>\n",
       "      <th>1978</th>\n",
       "      <td>100.0</td>\n",
       "    </tr>\n",
       "    <tr>\n",
       "      <th>2382</th>\n",
       "      <td>100.0</td>\n",
       "    </tr>\n",
       "    <tr>\n",
       "      <th>2532</th>\n",
       "      <td>100.0</td>\n",
       "    </tr>\n",
       "    <tr>\n",
       "      <th>2803</th>\n",
       "      <td>100.0</td>\n",
       "    </tr>\n",
       "    <tr>\n",
       "      <th>3069</th>\n",
       "      <td>100.0</td>\n",
       "    </tr>\n",
       "    <tr>\n",
       "      <th>3872</th>\n",
       "      <td>100.0</td>\n",
       "    </tr>\n",
       "    <tr>\n",
       "      <th>4164</th>\n",
       "      <td>100.0</td>\n",
       "    </tr>\n",
       "    <tr>\n",
       "      <th>4416</th>\n",
       "      <td>100.0</td>\n",
       "    </tr>\n",
       "    <tr>\n",
       "      <th>4485</th>\n",
       "      <td>100.0</td>\n",
       "    </tr>\n",
       "    <tr>\n",
       "      <th>5745</th>\n",
       "      <td>100.0</td>\n",
       "    </tr>\n",
       "    <tr>\n",
       "      <th>7719</th>\n",
       "      <td>100.0</td>\n",
       "    </tr>\n",
       "    <tr>\n",
       "      <th>7798</th>\n",
       "      <td>100.0</td>\n",
       "    </tr>\n",
       "    <tr>\n",
       "      <th>7824</th>\n",
       "      <td>100.0</td>\n",
       "    </tr>\n",
       "  </tbody>\n",
       "</table>\n",
       "</div>"
      ],
      "text/plain": [
       "            downsell_amount\n",
       "account_id                 \n",
       "336                   100.0\n",
       "417                   100.0\n",
       "534                   100.0\n",
       "748                   100.0\n",
       "1004                  100.0\n",
       "1169                  100.0\n",
       "1978                  100.0\n",
       "2382                  100.0\n",
       "2532                  100.0\n",
       "2803                  100.0\n",
       "3069                  100.0\n",
       "3872                  100.0\n",
       "4164                  100.0\n",
       "4416                  100.0\n",
       "4485                  100.0\n",
       "5745                  100.0\n",
       "7719                  100.0\n",
       "7798                  100.0\n",
       "7824                  100.0"
      ]
     },
     "execution_count": 11,
     "metadata": {},
     "output_type": "execute_result"
    }
   ],
   "source": [
    "qs=q_start_accounts.subquery()\n",
    "qe=q_end_accounts.subquery()\n",
    "q_downsell_accounts = session.query(qs.c.account_id, (qs.c.total_mrr-qe.c.total_mrr).label(\"downsell_amount\"))\\\n",
    "    .join(qe, qs.c.account_id == qe.c.account_id)\\\n",
    "    .filter(qe.c.total_mrr < qs.c.total_mrr)\n",
    "\n",
    "pd.read_sql(q_downsell_accounts.statement, engine).set_index(\"account_id\")"
   ]
  },
  {
   "cell_type": "code",
   "execution_count": 12,
   "metadata": {},
   "outputs": [
    {
     "name": "stdout",
     "output_type": "stream",
     "text": [
      "   mrr_churn_rate  start_mrr  churn_mrr  downsell_mrr\n",
      "0        0.202899    31050.0     4400.0        1900.0\n"
     ]
    }
   ],
   "source": [
    "start_mrr = session.query(func.sum(q_start_accounts.subquery().c.total_mrr)).one()[0] or 0\n",
    "churn_mrr = session.query(func.sum(q_churned_accounts.subquery().c.total_mrr)).one()[0] or 0\n",
    "downsell_mrr = session.query(func.sum(q_downsell_accounts.subquery().c.downsell_amount)).one()[0] or 0\n",
    "\n",
    "mrr_churn_rate = (churn_mrr+downsell_mrr) /start_mrr \n",
    "\n",
    "df=pd.DataFrame.from_dict({\n",
    "    \"mrr_churn_rate\":[mrr_churn_rate],\n",
    "    \"start_mrr\":[start_mrr],\n",
    "    \"churn_mrr\":[churn_mrr],\n",
    "    \"downsell_mrr\":[downsell_mrr],\n",
    "})\n",
    "print(df)\n"
   ]
  },
  {
   "cell_type": "markdown",
   "metadata": {},
   "source": [
    "## Churn Rate scaled (§2.5)"
   ]
  },
  {
   "cell_type": "code",
   "execution_count": 16,
   "metadata": {},
   "outputs": [
    {
     "name": "stdout",
     "output_type": "stream",
     "text": [
      "   n_start  n_churn  measured_churn  period_days  annual_churn  monthly_churn\n",
      "0      328       48        0.146341           60      0.618074       0.077078\n"
     ]
    }
   ],
   "source": [
    "from datetime import datetime\n",
    "\n",
    "def days_between(d1, d2):\n",
    "    d1 = datetime.strptime(d1, \"%Y-%m-%d\")\n",
    "    d2 = datetime.strptime(d2, \"%Y-%m-%d\")\n",
    "    return abs((d2 - d1).days)\n",
    "\n",
    "period_days=days_between(d_start_date, d_end_date)\n",
    "\n",
    "measured_churn =  n_churn / n_start\n",
    "#period_days = end_date - start_date\n",
    "annual_churn = 1- pow(1- measured_churn, 365.0 / period_days)\n",
    "monthly_churn = 1- pow(1- measured_churn, 365.0 /12.0 / period_days)\n",
    "\n",
    "df=pd.DataFrame.from_dict({\n",
    "    \"n_start\":[n_start],\n",
    "    \"n_churn\":[n_churn],\n",
    "    \"measured_churn\":[measured_churn],\n",
    "    \"period_days\":[period_days],\n",
    "    \"annual_churn\":[annual_churn],\n",
    "    \"monthly_churn\":[monthly_churn]\n",
    "})\n",
    "print(df)\n"
   ]
  }
 ],
 "metadata": {
  "kernelspec": {
   "display_name": "Python 3",
   "language": "python",
   "name": "python3"
  },
  "language_info": {
   "codemirror_mode": {
    "name": "ipython",
    "version": 3
   },
   "file_extension": ".py",
   "mimetype": "text/x-python",
   "name": "python",
   "nbconvert_exporter": "python",
   "pygments_lexer": "ipython3",
   "version": "3.8.0"
  }
 },
 "nbformat": 4,
 "nbformat_minor": 4
}
