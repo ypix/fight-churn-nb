{
 "cells": [
  {
   "cell_type": "code",
   "execution_count": 1,
   "metadata": {},
   "outputs": [
    {
     "name": "stdout",
     "output_type": "stream",
     "text": [
      "0.0.1\n"
     ]
    }
   ],
   "source": [
    "\"\"\"\n",
    "got to the project root folder \n",
    "run \n",
    "> python setup.py sdist\n",
    "\n",
    "a new package will be created and stored in the subfolder \"./dist\"\n",
    "\n",
    "now run pip install, e.g.:\n",
    "> pip install dist/churnmodels-0.0.1.tar.gz\n",
    "\"\"\"\n",
    "import churnmodels\n",
    "print(churnmodels.__version__)\n",
    "# expected outcome : the actual version number\n"
   ]
  },
  {
   "cell_type": "code",
   "execution_count": 2,
   "metadata": {},
   "outputs": [],
   "source": [
    "import os\n",
    "from sqlalchemy import create_engine\n",
    "from sqlalchemy.orm import sessionmaker\n",
    "\n",
    "from churnmodels import Subscription, Event, Account\n",
    "\n",
    "sqlfile=\"c:/tmp/churn4.db\"\n",
    "engine = create_engine(f\"sqlite:///{sqlfile}\")\n",
    "\n",
    "session = sessionmaker(bind=engine)()"
   ]
  },
  {
   "cell_type": "code",
   "execution_count": 3,
   "metadata": {},
   "outputs": [
    {
     "name": "stdout",
     "output_type": "stream",
     "text": [
      "            total_mrr\n",
      "account_id           \n",
      "1                50.0\n",
      "4                50.0\n",
      "82               50.0\n",
      "101              50.0\n",
      "120              50.0\n",
      "...               ...\n",
      "9885            100.0\n",
      "9897             50.0\n",
      "9900            100.0\n",
      "9967             50.0\n",
      "9983            200.0\n",
      "\n",
      "[305 rows x 1 columns]\n"
     ]
    }
   ],
   "source": [
    "from sqlalchemy import func, or_\n",
    "from churnmodels import Subscription, Event\n",
    "import pandas as pd\n",
    "\n",
    "\n",
    "d_start_date = \"2020-01-01\"\n",
    "d_end_date = \"2020-03-01\"\n",
    "\n",
    "\"\"\"\n",
    "-- PostGres SQL for start_accounts: \n",
    "    select  account_id, sum (mrr) as total_mrr    \n",
    "    from subscription s inner join date_range d on\n",
    "        s.start_date <= d.start_date    \n",
    "        and (s.end_date > d.start_date or s.end_date is null)\n",
    "    group by account_id    \n",
    "\"\"\"\n",
    "\n",
    "# start_accounts\n",
    "qa = session.query(Subscription.account_id, func.sum(Subscription.mrr).label(\"total_mrr\"))\\\n",
    "    .filter(\n",
    "            # SQL: s.start_date <= d.start_date\n",
    "        Subscription.start_date <= d_start_date,\n",
    "            # SQL: s.end_date > d.start_date or s.end_date is null\n",
    "        or_(Subscription.end_date > d_start_date, Subscription.end_date == None))\\\n",
    "    .group_by(Subscription.account_id) # SQL: group by account_id\n",
    "# getting the result from the DB stored into a pandas DataFrame\n",
    "start_accounts = pd.read_sql(qa.statement, engine).set_index(\"account_id\")\n",
    "print(start_accounts)"
   ]
  },
  {
   "cell_type": "code",
   "execution_count": 4,
   "metadata": {},
   "outputs": [
    {
     "name": "stdout",
     "output_type": "stream",
     "text": [
      "            total_mrr\n",
      "account_id           \n",
      "1                50.0\n",
      "2               100.0\n",
      "3               200.0\n",
      "4                50.0\n",
      "5                50.0\n",
      "...               ...\n",
      "12008           200.0\n",
      "12041           100.0\n",
      "12080           100.0\n",
      "12084            50.0\n",
      "12100           200.0\n",
      "\n",
      "[10346 rows x 1 columns]\n"
     ]
    }
   ],
   "source": [
    "# end_accounts\n",
    "qe = session.query(Subscription.account_id, func.sum(Subscription.mrr).label(\"total_mrr\")).filter(\n",
    "    Subscription.start_date <= d_end_date,\n",
    "    or_(Subscription.end_date > d_end_date, Subscription.end_date == None)).group_by(Subscription.account_id)\n",
    "# q = q.filter(Subscription.account_id==64)\n",
    "end_accounts = pd.read_sql(qe.statement, engine).set_index(\"account_id\")\n",
    "print(end_accounts)"
   ]
  },
  {
   "cell_type": "code",
   "execution_count": 5,
   "metadata": {},
   "outputs": [
    {
     "name": "stdout",
     "output_type": "stream",
     "text": [
      "            total_mrr_x  total_mrr_y\n",
      "account_id                          \n",
      "1                  50.0         50.0\n",
      "4                  50.0         50.0\n",
      "82                 50.0         50.0\n",
      "101                50.0         50.0\n",
      "120                50.0        100.0\n",
      "...                 ...          ...\n",
      "9885              100.0        100.0\n",
      "9897               50.0         50.0\n",
      "9900              100.0        100.0\n",
      "9967               50.0         50.0\n",
      "9983              200.0        200.0\n",
      "\n",
      "[272 rows x 2 columns]\n"
     ]
    }
   ],
   "source": [
    "# pandas calls\n",
    "# retained_accounts: inner join\n",
    "retained_accounts = pd.merge(start_accounts, end_accounts, on=\"account_id\")\n",
    "print(retained_accounts)\n",
    "# the resulting columns total_mrr_x, total_mrr_y are identical"
   ]
  },
  {
   "cell_type": "code",
   "execution_count": 6,
   "metadata": {},
   "outputs": [
    {
     "name": "stdout",
     "output_type": "stream",
     "text": [
      "SELECT anon_1.account_id, anon_1.total_mrr, anon_2.account_id, anon_2.total_mrr \n",
      "FROM (SELECT subscription.account_id AS account_id, sum(subscription.mrr) AS total_mrr \n",
      "FROM subscription \n",
      "WHERE subscription.start_date <= :start_date_1 AND (subscription.end_date > :end_date_1 OR subscription.end_date IS NULL) GROUP BY subscription.account_id) AS anon_1, (SELECT subscription.account_id AS account_id, sum(subscription.mrr) AS total_mrr \n",
      "FROM subscription \n",
      "WHERE subscription.start_date <= :start_date_2 AND (subscription.end_date > :end_date_2 OR subscription.end_date IS NULL) GROUP BY subscription.account_id) AS anon_2\n"
     ]
    }
   ],
   "source": [
    "from sqlalchemy.orm import aliased\n",
    "a1 = aliased(Account)\n",
    "qall = session.query(qa.subquery(), qe.subquery())\n",
    "print(qall.statement)"
   ]
  },
  {
   "cell_type": "code",
   "execution_count": null,
   "metadata": {},
   "outputs": [],
   "source": []
  },
  {
   "cell_type": "code",
   "execution_count": 8,
   "metadata": {},
   "outputs": [
    {
     "name": "stdout",
     "output_type": "stream",
     "text": [
      "SELECT subscription.account_id, sum(subscription.mrr) AS total_mrr \n",
      "FROM subscription JOIN (SELECT subscription.account_id AS account_id, sum(subscription.mrr) AS total_mrr \n",
      "FROM subscription \n",
      "WHERE subscription.start_date <= :start_date_1 AND (subscription.end_date > :end_date_1 OR subscription.end_date IS NULL) GROUP BY subscription.account_id) AS anon_1 ON subscription.account_id = anon_1.account_id \n",
      "WHERE subscription.start_date <= :start_date_2 AND (subscription.end_date > :end_date_2 OR subscription.end_date IS NULL) GROUP BY subscription.account_id\n",
      "            total_mrr\n",
      "account_id           \n",
      "1                50.0\n",
      "4                50.0\n",
      "82               50.0\n",
      "101              50.0\n",
      "120              50.0\n",
      "...               ...\n",
      "9885            100.0\n",
      "9897             50.0\n",
      "9900            100.0\n",
      "9967             50.0\n",
      "9983            200.0\n",
      "\n",
      "[272 rows x 1 columns]\n"
     ]
    }
   ],
   "source": [
    "\"\"\"\n",
    "if the subqueries qa and qe are large it is more efficient not to store the subselects into pandas DataFrames\n",
    "With sqlalchemy we can simply join two subqueries:\n",
    "\"\"\"\n",
    "qe_s=qe.subquery()\n",
    "qall = qa.join(qe_s, Subscription.account_id == qe_s.columns.account_id)  #<- see the reference to \"columns\" of the subquery ⌈object\n",
    "\n",
    "# let's have a look at the SQL statement sqlalchemy produces\n",
    "print(qall.statement)\n",
    "\n",
    "# reading into pandas\n",
    "joined_accounts = pd.read_sql(qall.statement, engine).set_index(\"account_id\")\n",
    "print(joined_accounts)\n",
    "                              "
   ]
  },
  {
   "cell_type": "code",
   "execution_count": null,
   "metadata": {},
   "outputs": [],
   "source": []
  }
 ],
 "metadata": {
  "kernelspec": {
   "display_name": "Python 3",
   "language": "python",
   "name": "python3"
  },
  "language_info": {
   "codemirror_mode": {
    "name": "ipython",
    "version": 3
   },
   "file_extension": ".py",
   "mimetype": "text/x-python",
   "name": "python",
   "nbconvert_exporter": "python",
   "pygments_lexer": "ipython3",
   "version": "3.8.0"
  }
 },
 "nbformat": 4,
 "nbformat_minor": 4
}
