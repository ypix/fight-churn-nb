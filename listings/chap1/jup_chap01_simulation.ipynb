{
 "cells": [
  {
   "cell_type": "markdown",
   "metadata": {},
   "source": [
    "# Simulation Data\n",
    "This Notebook shows how to create the simulation data and store them into a DB\n"
   ]
  },
  {
   "cell_type": "markdown",
   "metadata": {},
   "source": [
    "## Example for SQLite DB"
   ]
  },
  {
   "cell_type": "code",
   "execution_count": 4,
   "metadata": {},
   "outputs": [
    {
     "name": "stderr",
     "output_type": "stream",
     "text": [
      "Simulated Customers: 100%|##################################################| 13/13 [00:33<00:00,  2.58s/it]\n",
      "Writing Accounts: 100%|##################################################| 13/13 [00:33<00:00,  2.58s/it]\n",
      "Writing Subs/Events: 100%|##################################################| 9872/9872 [00:33<00:00, 294.86it/s]\n",
      "Simulated Customers: 100%|##################################################| 15/15 [00:33<00:00,  2.22s/it]\n",
      "Writing Accounts: 100%|##################################################| 15/15 [00:33<00:00,  2.22s/it]\n",
      "Writing Subs/Events: 100%|##################################################| 3930/3930 [00:33<00:00, 118.12it/s]"
     ]
    },
    {
     "name": "stdout",
     "output_type": "stream",
     "text": [
      "\n",
      "Creating 10000 initial customers for month of 2020-01-01\n"
     ]
    },
    {
     "name": "stderr",
     "output_type": "stream",
     "text": [
      "\n",
      "Simulated Customers:   1%|6                                                 | 13/1000 [00:00<00:08, 118.77it/s]06993.24it/s] "
     ]
    },
    {
     "name": "stdout",
     "output_type": "stream",
     "text": [
      "Created 10000 initial customers with 44959 subscriptions for start date 2020-01-01\n",
      "\n",
      "Creating 1000 new customers for month of 2020-02-01:\n"
     ]
    },
    {
     "name": "stderr",
     "output_type": "stream",
     "text": [
      "Simulated Customers: 100%|##################################################| 10000/10000 [08:34<00:00, 19.42it/s]\n",
      "Writing Accounts: 100%|##################################################| 10000/10000 [05:57<00:00, 27.99it/s] \n",
      "Writing Subs/Events: 100%|##################################################| 14252804/14252804 [05:46<00:00, 41105.70it/s] \n",
      "Simulated Customers:   3%|#5                                                | 35/1100 [00:00<00:05, 182.40it/s]7998.52it/s]"
     ]
    },
    {
     "name": "stdout",
     "output_type": "stream",
     "text": [
      "Created 1000 new customers for month 2020-02-01, now 48637 subscriptions\n",
      "\n",
      "\n",
      "Creating 1100 new customers for month of 2020-03-01:\n"
     ]
    },
    {
     "name": "stderr",
     "output_type": "stream",
     "text": [
      "Simulated Customers: 100%|##################################################| 1000/1000 [00:28<00:00, 34.86it/s]\n",
      "Writing Accounts: 100%|##################################################| 1000/1000 [00:14<00:00, 68.33it/s]\n",
      "Writing Subs/Events: 100%|##################################################| 1195072/1195072 [00:13<00:00, 88244.42it/s]  \n",
      "Simulated Customers: 100%|##################################################| 1100/1100 [00:23<00:00, 45.94it/s]2.56it/s]\n",
      "Writing Accounts: 100%|##################################################| 1100/1100 [00:11<00:00, 93.51it/s] \n",
      "Writing Subs/Events: 100%|##################################################| 984691/984691 [00:10<00:00, 92511.06it/s]  \n",
      "Simulated Customers:   1%|4                                                 | 12/1210 [00:00<00:11, 101.43it/s]"
     ]
    },
    {
     "name": "stdout",
     "output_type": "stream",
     "text": [
      "Created 1100 new customers for month 2020-03-01, now 51751 subscriptions\n",
      "\n",
      "\n",
      "Creating 1210 new customers for month of 2020-04-01:\n"
     ]
    },
    {
     "name": "stderr",
     "output_type": "stream",
     "text": [
      "Simulated Customers:   1%|7                                                 | 19/1331 [00:00<00:07, 182.56it/s]69.99it/s]"
     ]
    },
    {
     "name": "stdout",
     "output_type": "stream",
     "text": [
      "Created 1210 new customers for month 2020-04-01, now 54114 subscriptions\n",
      "\n",
      "\n",
      "Creating 1331 new customers for month of 2020-05-01:\n"
     ]
    },
    {
     "name": "stderr",
     "output_type": "stream",
     "text": [
      "Simulated Customers: 100%|##################################################| 1210/1210 [00:18<00:00, 66.52it/s] \n",
      "Writing Accounts: 100%|##################################################| 1210/1210 [00:08<00:00, 141.59it/s] \n",
      "Writing Subs/Events: 100%|##################################################| 728461/728461 [00:07<00:00, 99851.80it/s]  \n",
      "Writing Subs/Events:  88%|###########################################8      | 395096/450193 [00:00<00:00, 991549.71it/s] "
     ]
    },
    {
     "name": "stdout",
     "output_type": "stream",
     "text": [
      "Created 1331 new customers for month 2020-05-01, now 55484 subscriptions\n",
      "\n"
     ]
    },
    {
     "name": "stderr",
     "output_type": "stream",
     "text": [
      "Writing Accounts: 100%|##################################################| 1331/1331 [00:14<00:00, 794.41it/s]/s]71it/s]"
     ]
    }
   ],
   "source": [
    "from churnmodels import schema\n",
    "from churnmodels.simulation import simulate\n",
    "import os\n",
    "from datetime import date\n",
    "\n",
    "# which type of DB do we have?\n",
    "os.environ[\"CHURN_DB_DIALECT\"]= \"sqlite\" # given that sqlite is the default we actually do not need this line\n",
    "\n",
    "# give the filename of the SQLite DB\n",
    "os.environ[\"SQLITE_FILE\"]= \"../churn.db\"\n",
    "\n",
    "model=\"biznet1\"\n",
    "options = {\n",
    "    \"model\": model,\n",
    "    \"start\": date(2020, 1, 1),\n",
    "    \"end\": date(2020, 6, 1),\n",
    "    \"seed\": 5432,\n",
    "    \"init_customers\": 10000,\n",
    "}\n",
    "simulate(options)\n"
   ]
  },
  {
   "cell_type": "code",
   "execution_count": 3,
   "metadata": {},
   "outputs": [
    {
     "name": "stdout",
     "output_type": "stream",
     "text": [
      "0.0.4\n"
     ]
    }
   ],
   "source": [
    "import churnmodels\n",
    "print(churnmodels.__version__)"
   ]
  },
  {
   "cell_type": "markdown",
   "metadata": {},
   "source": [
    "# Example for PostGres\n"
   ]
  },
  {
   "cell_type": "code",
   "execution_count": 3,
   "metadata": {},
   "outputs": [
    {
     "name": "stderr",
     "output_type": "stream",
     "text": [
      "Simulated Customers:   0%|1                                                 | 30/10000 [00:00<00:55, 180.01it/s]       "
     ]
    },
    {
     "name": "stdout",
     "output_type": "stream",
     "text": [
      "\n",
      "Creating 10000 initial customers for month of 2020-01-01\n"
     ]
    },
    {
     "name": "stderr",
     "output_type": "stream",
     "text": [
      "Simulated Customers: 100%|##################################################| 10/10 [00:40<00:00,  4.07s/it]           \n",
      "Writing Accounts: 100%|##################################################| 10/10 [00:40<00:00,  4.07s/it]              \n",
      "Writing Subs/Events: 100%|##################################################| 10344/10344 [00:40<00:00, 254.56it/s]    \n",
      "Simulated Customers: 100%|##################################################| 11/11 [00:40<00:00,  3.68s/it]           \n",
      "Writing Accounts: 100%|##################################################| 11/11 [00:40<00:00,  3.67s/it]              \n",
      "Writing Subs/Events: 100%|##################################################| 5644/5644 [00:40<00:00, 139.76it/s]      \n",
      "Simulated Customers: 100%|##################################################| 13/13 [00:40<00:00,  3.10s/it]           \n",
      "Writing Accounts: 100%|##################################################| 13/13 [00:40<00:00,  3.10s/it]              \n",
      "Writing Subs/Events: 100%|##################################################| 8971/8971 [00:40<00:00, 223.00it/s]      \n",
      "Simulated Customers: 100%|##################################################| 15/15 [00:40<00:00,  2.67s/it]           \n",
      "Writing Accounts: 100%|##################################################| 15/15 [00:40<00:00,  2.67s/it]              \n",
      "Writing Subs/Events: 100%|##################################################| 4427/4427 [00:40<00:00, 110.60it/s]      \n",
      "Simulated Customers: 100%|##################################################| 10000/10000 [23:49<00:00,  7.00it/s]     \n",
      "Writing Accounts: 100%|##################################################| 10000/10000 [20:43<00:00,  8.04it/s]        \n",
      "Writing Subs/Events: 100%|##################################################| 14146257/14146257 [20:35<00:00, 11446.84i\n",
      "Simulated Customers:   1%|6                                                 | 13/1000 [00:00<00:13, 74.60it/s]         "
     ]
    },
    {
     "name": "stdout",
     "output_type": "stream",
     "text": [
      "Created 10000 initial customers with 44607 subscriptions for start date 2020-01-01\n",
      "\n",
      "Creating 1000 new customers for month of 2020-02-01:\n"
     ]
    },
    {
     "name": "stderr",
     "output_type": "stream",
     "text": [
      "Simulated Customers:   1%|3                                                 | 7/1100 [00:00<00:17, 61.42it/s]          "
     ]
    },
    {
     "name": "stdout",
     "output_type": "stream",
     "text": [
      "Created 1000 new customers for month 2020-02-01, now 48247 subscriptions\n",
      "\n",
      "\n",
      "Creating 1100 new customers for month of 2020-03-01:\n"
     ]
    },
    {
     "name": "stderr",
     "output_type": "stream",
     "text": [
      "Simulated Customers: 100%|##################################################| 1000/1000 [01:48<00:00,  9.24it/s]       \n",
      "Writing Accounts: 100%|##################################################| 1000/1000 [01:33<00:00, 10.72it/s]          \n",
      "Writing Subs/Events: 100%|##################################################| 1160304/1160304 [01:32<00:00, 12532.19it/\n",
      "Simulated Customers:   1%|7                                                 | 18/1210 [00:00<00:09, 132.09it/s]        "
     ]
    },
    {
     "name": "stdout",
     "output_type": "stream",
     "text": [
      "Created 1100 new customers for month 2020-03-01, now 51341 subscriptions\n",
      "\n",
      "\n",
      "Creating 1210 new customers for month of 2020-04-01:\n"
     ]
    },
    {
     "name": "stderr",
     "output_type": "stream",
     "text": [
      "Simulated Customers: 100%|##################################################| 1100/1100 [01:37<00:00, 11.25it/s]       \n",
      "Writing Accounts: 100%|##################################################| 1100/1100 [01:24<00:00, 12.98it/s]          \n",
      "Writing Subs/Events: 100%|##################################################| 1057083/1057083 [01:23<00:00, 12591.60it/\n",
      "Simulated Customers:   1%|3                                                 | 8/1331 [00:00<00:17, 75.98it/s]          "
     ]
    },
    {
     "name": "stdout",
     "output_type": "stream",
     "text": [
      "Created 1210 new customers for month 2020-04-01, now 53730 subscriptions\n",
      "\n",
      "\n",
      "Creating 1331 new customers for month of 2020-05-01:\n"
     ]
    },
    {
     "name": "stderr",
     "output_type": "stream",
     "text": [
      "Simulated Customers: 100%|##################################################| 1210/1210 [01:19<00:00, 15.26it/s]       \n",
      "Writing Accounts: 100%|##################################################| 1210/1210 [01:09<00:00, 17.46it/s]          \n",
      "Writing Subs/Events: 100%|##################################################| 801821/801821 [01:08<00:00, 11717.89it/s]\n",
      "Simulated Customers: 100%|##################################################| 1331/1331 [00:17<00:00, 211.65it/s]      "
     ]
    },
    {
     "name": "stdout",
     "output_type": "stream",
     "text": [
      "Created 1331 new customers for month 2020-05-01, now 55094 subscriptions\n",
      "\n"
     ]
    }
   ],
   "source": [
    "import os\n",
    "from datetime import date\n",
    "\n",
    "# it is very important that we first set the environment variables ...\n",
    "# which type of DB do we have?\n",
    "os.environ[\"CHURN_DB_DIALECT\"]= \"postgres\" # given that sqlite is the default we actually do not need this line\n",
    "\n",
    "# we need to give DB-name, user and password\n",
    "model=\"biznet1\"\n",
    "os.environ[\"CHURN_DB\"]= \"churn\"\n",
    "os.environ[\"CHURN_DB_SCHEMA\"]= model\n",
    "os.environ[\"CHURN_DB_USER\"]= \"postgres\"\n",
    "os.environ[\"CHURN_DB_PASS\"]= \"password\"\n",
    "\n",
    "# ...having set the environment variables, our SQLAlchemy model will incorporate them, recognizing that we want to set up a Postgres DB\n",
    "from churnmodels import schema\n",
    "from churnmodels.simulation import simulate\n",
    "\n",
    "options = {\n",
    "    \"model\": model,\n",
    "    \"start\": date(2020, 1, 1),\n",
    "    \"end\": date(2020, 6, 1),\n",
    "    \"seed\": 5432,\n",
    "    \"init_customers\": 10000,\n",
    "}\n",
    "simulate(options)\n"
   ]
  },
  {
   "cell_type": "code",
   "execution_count": null,
   "metadata": {},
   "outputs": [],
   "source": []
  },
  {
   "cell_type": "code",
   "execution_count": null,
   "metadata": {},
   "outputs": [],
   "source": []
  }
 ],
 "metadata": {
  "kernelspec": {
   "display_name": "Python 3",
   "language": "python",
   "name": "python3"
  },
  "language_info": {
   "codemirror_mode": {
    "name": "ipython",
    "version": 3
   },
   "file_extension": ".py",
   "mimetype": "text/x-python",
   "name": "python",
   "nbconvert_exporter": "python",
   "pygments_lexer": "ipython3",
   "version": "3.8.5"
  }
 },
 "nbformat": 4,
 "nbformat_minor": 4
}
