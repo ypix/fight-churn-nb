{
 "cells": [
  {
   "cell_type": "markdown",
   "metadata": {},
   "source": [
    "# Simulation Data\n",
    "This Notebook shows how to create the simulation data and store them into a DB\n"
   ]
  },
  {
   "cell_type": "markdown",
   "metadata": {},
   "source": [
    "## Example for SQLite DB"
   ]
  },
  {
   "cell_type": "code",
   "execution_count": 1,
   "metadata": {},
   "outputs": [],
   "source": [
    "from churnmodels import schema\n",
    "from churnmodels.simulation import simulate\n",
    "import os\n",
    "from datetime import date\n",
    "\n",
    "# which type of DB do we have?\n",
    "os.environ[\"CHURN_DB_DIALECT\"]= \"sqlite\" # given that sqlite is the default we actually do not need this line\n",
    "\n",
    "# give the filename of the SQLite DB\n",
    "os.environ[\"SQLITE_FILE\"]= \"c:/tmp/churn6.db\"\n",
    "\n",
    "model=\"biznet1\"\n",
    "options = {\n",
    "    \"model\": model,\n",
    "    \"start\": date(2020, 1, 1),\n",
    "    \"end\": date(2020, 6, 1),\n",
    "    \"seed\": 5432,\n",
    "    \"init_customers\": 10000,\n",
    "}\n",
    "simulate(options)\n"
   ]
  },
  {
   "cell_type": "markdown",
   "metadata": {},
   "source": [
    "# Example for PostGres\n"
   ]
  },
  {
   "cell_type": "code",
   "execution_count": 1,
   "metadata": {},
   "outputs": [
    {
     "name": "stdout",
     "output_type": "stream",
     "text": [
      "postgres schema is biznet1\n",
      "\n",
      "Creating 100 initial customers for month of 2020-01-01\n"
     ]
    },
    {
     "name": "stderr",
     "output_type": "stream",
     "text": [
      "Writing Subs/Events:   0%|                                                  | 0/145967 [00:00<?, ?it/s]                "
     ]
    },
    {
     "name": "stdout",
     "output_type": "stream",
     "text": [
      "\n"
     ]
    },
    {
     "name": "stderr",
     "output_type": "stream",
     "text": [
      "Simulated Customers: 100%|##################################################| 100/100 [00:13<00:00,  7.60it/s]         \n",
      "Writing Accounts: 100%|##################################################| 100/100 [00:11<00:00,  8.81it/s]            \n",
      "Writing Subs/Events: 100%|##################################################| 145967/145967 [00:11<00:00, 12952.92it/s]"
     ]
    },
    {
     "name": "stdout",
     "output_type": "stream",
     "text": [
      "Created 100 initial customers with 457 subscriptions for start date 2020-01-01\n",
      "\n",
      "Creating 10 new customers for month of 2020-02-01:\n",
      "\n"
     ]
    },
    {
     "name": "stderr",
     "output_type": "stream",
     "text": [
      "\n",
      "Writing Subs/Events:   0%|                                                  | 0/6256 [00:00<?, ?it/s]                  "
     ]
    },
    {
     "name": "stdout",
     "output_type": "stream",
     "text": [
      "Created 10 new customers for month 2020-02-01, now 491 subscriptions\n",
      "\n",
      "\n",
      "Creating 11 new customers for month of 2020-03-01:\n",
      "\n"
     ]
    },
    {
     "name": "stderr",
     "output_type": "stream",
     "text": [
      "Writing Subs/Events:   0%|                                                  | 0/7176 [00:00<?, ?it/s]                  "
     ]
    },
    {
     "name": "stdout",
     "output_type": "stream",
     "text": [
      "Created 11 new customers for month 2020-03-01, now 522 subscriptions\n",
      "\n",
      "\n",
      "Creating 13 new customers for month of 2020-04-01:\n",
      "\n"
     ]
    },
    {
     "name": "stderr",
     "output_type": "stream",
     "text": [
      "Writing Subs/Events:   0%|                                                  | 0/4427 [00:00<?, ?it/s]                  "
     ]
    },
    {
     "name": "stdout",
     "output_type": "stream",
     "text": [
      "Created 13 new customers for month 2020-04-01, now 545 subscriptions\n",
      "\n",
      "\n",
      "Creating 15 new customers for month of 2020-05-01:\n",
      "\n",
      "Created 15 new customers for month 2020-05-01, now 560 subscriptions\n",
      "\n"
     ]
    }
   ],
   "source": [
    "import os\n",
    "from datetime import date\n",
    "\n",
    "# it is very important that we first set the environment variables ...\n",
    "# which type of DB do we have?\n",
    "os.environ[\"CHURN_DB_DIALECT\"]= \"postgres\" # given that sqlite is the default we actually do not need this line\n",
    "\n",
    "# we need to give DB-name, user and password\n",
    "model=\"biznet1\"\n",
    "os.environ[\"CHURN_DB\"]= \"churn\"\n",
    "os.environ[\"CHURN_DB_SCHEMA\"]= model\n",
    "os.environ[\"CHURN_DB_USER\"]= \"postgres\"\n",
    "os.environ[\"CHURN_DB_PASS\"]= \"password\"\n",
    "\n",
    "# ...having set the environment variables, our SQLAlchemy model will incorporate them, recognizing that we want to set up a Postgres DB\n",
    "from churnmodels import schema\n",
    "from churnmodels.simulation import simulate\n",
    "\n",
    "options = {\n",
    "    \"model\": model,\n",
    "    \"start\": date(2020, 1, 1),\n",
    "    \"end\": date(2020, 6, 1),\n",
    "    \"seed\": 5432,\n",
    "    \"init_customers\": 100,\n",
    "}\n",
    "simulate(options)\n"
   ]
  },
  {
   "cell_type": "code",
   "execution_count": null,
   "metadata": {},
   "outputs": [],
   "source": []
  },
  {
   "cell_type": "code",
   "execution_count": null,
   "metadata": {},
   "outputs": [],
   "source": []
  }
 ],
 "metadata": {
  "kernelspec": {
   "display_name": "Python 3",
   "language": "python",
   "name": "python3"
  },
  "language_info": {
   "codemirror_mode": {
    "name": "ipython",
    "version": 3
   },
   "file_extension": ".py",
   "mimetype": "text/x-python",
   "name": "python",
   "nbconvert_exporter": "python",
   "pygments_lexer": "ipython3",
   "version": "3.8.0"
  }
 },
 "nbformat": 4,
 "nbformat_minor": 4
}
