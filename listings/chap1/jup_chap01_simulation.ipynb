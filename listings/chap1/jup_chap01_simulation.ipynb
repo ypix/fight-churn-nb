{
 "cells": [
  {
   "cell_type": "markdown",
   "metadata": {},
   "source": [
    "# Simulation Data\n",
    "This Notebook shows how to create the simulation data and store them into a DB\n"
   ]
  },
  {
   "cell_type": "markdown",
   "metadata": {},
   "source": [
    "## Example for SQLite DB"
   ]
  },
  {
   "cell_type": "code",
   "execution_count": 2,
   "metadata": {},
   "outputs": [
    {
     "name": "stderr",
     "output_type": "stream",
     "text": [
      "Simulated Customers:  20%|##########                                        | 20/100 [00:00<00:00, 177.94it/s]         "
     ]
    },
    {
     "name": "stdout",
     "output_type": "stream",
     "text": [
      "\n",
      "Creating 100 initial customers for month of 2020-01-01\n"
     ]
    },
    {
     "name": "stderr",
     "output_type": "stream",
     "text": [
      "Simulated Customers: 100%|##################################################| 15/15 [00:06<00:00,  2.18it/s]           \n",
      "Writing Accounts: 100%|##################################################| 15/15 [00:06<00:00,  2.20it/s]              \n",
      "Writing Subs/Events: 100%|##################################################| 4606/4606 [00:06<00:00, 678.53it/s]      \n",
      "Simulated Customers: 100%|##################################################| 100/100 [00:02<00:00, 35.03it/s]         \n",
      "Writing Accounts: 100%|##################################################| 100/100 [00:01<00:00, 70.49it/s]            \n",
      "Writing Subs/Events: 100%|##################################################| 143113/143113 [00:01<00:00, 106803.41it/s"
     ]
    },
    {
     "name": "stdout",
     "output_type": "stream",
     "text": [
      "Created 100 initial customers with 443 subscriptions for start date 2020-01-01\n",
      "\n",
      "Creating 10 new customers for month of 2020-02-01:\n"
     ]
    },
    {
     "name": "stderr",
     "output_type": "stream",
     "text": [
      "\n",
      "Writing Subs/Events:   0%|                                                  | 0/5644 [00:00<?, ?it/s]                  "
     ]
    },
    {
     "name": "stdout",
     "output_type": "stream",
     "text": [
      "Created 10 new customers for month 2020-02-01, now 481 subscriptions\n",
      "\n",
      "\n",
      "Creating 11 new customers for month of 2020-03-01:\n",
      "Created 11 new customers for month 2020-03-01, now 514 subscriptions\n",
      "\n",
      "\n",
      "Creating 13 new customers for month of 2020-04-01:\n"
     ]
    },
    {
     "name": "stderr",
     "output_type": "stream",
     "text": [
      "Writing Subs/Events:   0%|                                                  | 0/4427 [00:00<?, ?it/s]                  "
     ]
    },
    {
     "name": "stdout",
     "output_type": "stream",
     "text": [
      "Created 13 new customers for month 2020-04-01, now 541 subscriptions\n",
      "\n",
      "\n",
      "Creating 15 new customers for month of 2020-05-01:\n",
      "Created 15 new customers for month 2020-05-01, now 559 subscriptions\n",
      "\n"
     ]
    }
   ],
   "source": [
    "from churnmodels import schema\n",
    "from churnmodels.simulation import simulate\n",
    "import os\n",
    "from datetime import date\n",
    "\n",
    "# which type of DB do we have?\n",
    "os.environ[\"CHURN_DB_DIALECT\"]= \"sqlite\" # given that sqlite is the default we actually do not need this line\n",
    "\n",
    "# give the filename of the SQLite DB\n",
    "os.environ[\"SQLITE_FILE\"]= \"c:/tmp/churn_a2.db\"\n",
    "\n",
    "model=\"biznet1\"\n",
    "options = {\n",
    "    \"model\": model,\n",
    "    \"start\": date(2020, 1, 1),\n",
    "    \"end\": date(2020, 6, 1),\n",
    "    \"seed\": 5432,\n",
    "    \"init_customers\": 100,\n",
    "}\n",
    "simulate(options)\n"
   ]
  },
  {
   "cell_type": "code",
   "execution_count": 2,
   "metadata": {},
   "outputs": [
    {
     "name": "stdout",
     "output_type": "stream",
     "text": [
      "0.0.2\n"
     ]
    }
   ],
   "source": [
    "import churnmodels\n",
    "print(churnmodels.__version__)"
   ]
  },
  {
   "cell_type": "markdown",
   "metadata": {},
   "source": [
    "# Example for PostGres\n"
   ]
  },
  {
   "cell_type": "code",
   "execution_count": null,
   "metadata": {},
   "outputs": [
    {
     "name": "stderr",
     "output_type": "stream",
     "text": [
      "Simulated Customers:   0%|1                                                 | 30/10000 [00:00<00:55, 180.01it/s]       "
     ]
    },
    {
     "name": "stdout",
     "output_type": "stream",
     "text": [
      "\n",
      "Creating 10000 initial customers for month of 2020-01-01\n"
     ]
    },
    {
     "name": "stderr",
     "output_type": "stream",
     "text": [
      "Simulated Customers: 100%|##################################################| 10/10 [00:40<00:00,  4.07s/it]           \n",
      "Writing Accounts: 100%|##################################################| 10/10 [00:40<00:00,  4.07s/it]              \n",
      "Writing Subs/Events: 100%|##################################################| 10344/10344 [00:40<00:00, 254.56it/s]    \n",
      "Simulated Customers: 100%|##################################################| 11/11 [00:40<00:00,  3.68s/it]           \n",
      "Writing Accounts: 100%|##################################################| 11/11 [00:40<00:00,  3.67s/it]              \n",
      "Writing Subs/Events: 100%|##################################################| 5644/5644 [00:40<00:00, 139.76it/s]      \n",
      "Simulated Customers: 100%|##################################################| 13/13 [00:40<00:00,  3.10s/it]           \n",
      "Writing Accounts: 100%|##################################################| 13/13 [00:40<00:00,  3.10s/it]              \n",
      "Writing Subs/Events: 100%|##################################################| 8971/8971 [00:40<00:00, 223.00it/s]      \n",
      "Simulated Customers: 100%|##################################################| 15/15 [00:40<00:00,  2.67s/it]           \n",
      "Writing Accounts: 100%|##################################################| 15/15 [00:40<00:00,  2.67s/it]              \n",
      "Writing Subs/Events: 100%|##################################################| 4427/4427 [00:40<00:00, 110.60it/s]      \n",
      "Simulated Customers:  31%|###############5                                  | 3100/10000 [00:57<02:05, 54.95it/s]      "
     ]
    }
   ],
   "source": [
    "import os\n",
    "from datetime import date\n",
    "\n",
    "# it is very important that we first set the environment variables ...\n",
    "# which type of DB do we have?\n",
    "os.environ[\"CHURN_DB_DIALECT\"]= \"postgres\" # given that sqlite is the default we actually do not need this line\n",
    "\n",
    "# we need to give DB-name, user and password\n",
    "model=\"biznet1\"\n",
    "os.environ[\"CHURN_DB\"]= \"churn\"\n",
    "os.environ[\"CHURN_DB_SCHEMA\"]= model\n",
    "os.environ[\"CHURN_DB_USER\"]= \"postgres\"\n",
    "os.environ[\"CHURN_DB_PASS\"]= \"password\"\n",
    "\n",
    "# ...having set the environment variables, our SQLAlchemy model will incorporate them, recognizing that we want to set up a Postgres DB\n",
    "from churnmodels import schema\n",
    "from churnmodels.simulation import simulate\n",
    "\n",
    "options = {\n",
    "    \"model\": model,\n",
    "    \"start\": date(2020, 1, 1),\n",
    "    \"end\": date(2020, 6, 1),\n",
    "    \"seed\": 5432,\n",
    "    \"init_customers\": 10000,\n",
    "}\n",
    "simulate(options)\n"
   ]
  },
  {
   "cell_type": "code",
   "execution_count": null,
   "metadata": {},
   "outputs": [],
   "source": []
  },
  {
   "cell_type": "code",
   "execution_count": null,
   "metadata": {},
   "outputs": [],
   "source": []
  }
 ],
 "metadata": {
  "kernelspec": {
   "display_name": "Python 3",
   "language": "python",
   "name": "python3"
  },
  "language_info": {
   "codemirror_mode": {
    "name": "ipython",
    "version": 3
   },
   "file_extension": ".py",
   "mimetype": "text/x-python",
   "name": "python",
   "nbconvert_exporter": "python",
   "pygments_lexer": "ipython3",
   "version": "3.8.0"
  }
 },
 "nbformat": 4,
 "nbformat_minor": 4
}
