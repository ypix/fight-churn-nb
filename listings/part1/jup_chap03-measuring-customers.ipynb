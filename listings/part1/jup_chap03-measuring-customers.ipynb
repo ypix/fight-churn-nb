{
 "cells": [
  {
   "cell_type": "markdown",
   "metadata": {},
   "source": [
    "## Access to the DB"
   ]
  },
  {
   "cell_type": "markdown",
   "metadata": {},
   "source": [
    "### SQLite"
   ]
  },
  {
   "cell_type": "code",
   "execution_count": 1,
   "metadata": {},
   "outputs": [],
   "source": [
    "import os\n",
    "import sqlalchemy as sa\n",
    "from sqlalchemy import create_engine\n",
    "from sqlalchemy.orm import sessionmaker\n",
    "import pandas as pd\n",
    "from churnmodels.schema import get_db_uri\n",
    "\n",
    "options = {\n",
    "        \"dialect\":\"sqlite\",\n",
    "        \"file\":\"../churn.db\"\n",
    "    }\n",
    "\n",
    "if True:\n",
    "    # connect to the database\n",
    "    db_uri=get_db_uri(options, \"sqlite\") # \"postgres\" names the dialect we are using\n",
    "    engine=create_engine(db_uri)\n",
    "    session = sessionmaker(bind=engine)()\n",
    "\n",
    "    # we get the log function from an extension library for sqlite\n",
    "    from sqlalchemy import event\n",
    "    @event.listens_for(engine, \"connect\")\n",
    "    def connect(dbapi_connection, connection_rec):\n",
    "        dbapi_connection.enable_load_extension(True)\n",
    "        dbapi_connection.execute('SELECT load_extension(\"libsqlitefunctions\")')\n"
   ]
  },
  {
   "cell_type": "markdown",
   "metadata": {},
   "source": [
    "### PostGres"
   ]
  },
  {
   "cell_type": "code",
   "execution_count": 1,
   "metadata": {},
   "outputs": [],
   "source": [
    "import os\n",
    "import sqlalchemy as sa\n",
    "from sqlalchemy import create_engine\n",
    "from sqlalchemy.orm import sessionmaker\n",
    "import pandas as pd\n",
    "from churnmodels.schema import get_db_uri\n",
    "\n",
    "options = {\n",
    "        \"dialect\":\"postgresql\",\n",
    "        \"user\": \"postgres\",\n",
    "           \"pass\": \"password\",\n",
    "           \"dbname\": \"churn\",\n",
    "           \"schema\": \"biznet1\"\n",
    "           #\"host\" : \"localhost\" # ...if needed\n",
    "           #\"port\" : \"5432\" # ...if needed\n",
    "           }\n",
    "\n",
    "if True:\n",
    "    # connect to the database\n",
    "    db_uri=get_db_uri(options, \"postgres\") # \"postgres\" names the dialect we are using\n",
    "    engine=create_engine(db_uri)\n",
    "    engine.dialect.has_schema(engine, options[\"schema\"]) \n",
    "    session = sessionmaker(bind=engine)()\n"
   ]
  },
  {
   "cell_type": "code",
   "execution_count": 2,
   "metadata": {},
   "outputs": [],
   "source": [
    "from datetime import datetime\n",
    "from dateutil.relativedelta import relativedelta\n",
    "from sqlalchemy import func, or_\n",
    "import pandas as pd\n",
    "from churnmodels import DBHelper\n",
    "from churnmodels.helpers import days_between, pretty_sql\n",
    "from churnmodels.schema import get_schema_rfl\n",
    "\n",
    "#d_start_date = \"2020-01-01\"\n",
    "#d_end_date = \"2020-03-01\"\n",
    "\n",
    "d_start_date = \"2020-03-01\"\n",
    "d_end_date = \"2020-04-01\"\n",
    "\n",
    "# tables is a (dynamical) module containg Wrapper classes for our data base\n",
    "T=get_schema_rfl(options)\n",
    "# ..how to bring all tables in T to the global namespace\n",
    "for tbl in T.__dict__.keys():\n",
    "    if not tbl[0].isupper():\n",
    "        continue\n",
    "    exec(f\"{tbl} = T.{tbl}\")\n",
    "\n",
    "dbhelper=DBHelper(options)\n"
   ]
  },
  {
   "cell_type": "code",
   "execution_count": 3,
   "metadata": {},
   "outputs": [],
   "source": [
    "from sqlalchemy import func\n",
    "if session.bind.dialect.name == \"sqlite\":\n",
    "    # sqlite problematic when computing days\n",
    "    to_days = lambda some_date: func.julianday(some_date)\n",
    "else:\n",
    "    # dummy func because of sqlite\n",
    "    to_days = lambda some_date: func.DATE(some_date)\n"
   ]
  },
  {
   "cell_type": "markdown",
   "metadata": {},
   "source": [
    "## event_count (§3.1)"
   ]
  },
  {
   "cell_type": "code",
   "execution_count": 4,
   "metadata": {},
   "outputs": [
    {
     "name": "stdout",
     "output_type": "stream",
     "text": [
      "event_type_name  adview  dislike   like  message  newfriend   post  reply  \\\n",
      "account_id                                                                  \n",
      "1                  10.0      2.0   65.0     11.0        2.0    3.0    8.0   \n",
      "2                   6.0      1.0   11.0      NaN        3.0    4.0    NaN   \n",
      "4                  27.0     14.0   56.0      5.0        3.0   25.0    5.0   \n",
      "5                  24.0      3.0  103.0     53.0        8.0   38.0   14.0   \n",
      "6                   8.0      4.0    9.0     18.0        1.0    NaN    3.0   \n",
      "...                 ...      ...    ...      ...        ...    ...    ...   \n",
      "12096              11.0      6.0  592.0    153.0        2.0   90.0   65.0   \n",
      "12097               1.0      NaN    4.0    216.0        3.0   17.0  118.0   \n",
      "12098              32.0      6.0   36.0     49.0        8.0   12.0   21.0   \n",
      "12099              95.0      8.0  205.0     18.0       15.0   59.0   12.0   \n",
      "12100             123.0      3.0  318.0      5.0       28.0  344.0    2.0   \n",
      "\n",
      "event_type_name  unfriend  \n",
      "account_id                 \n",
      "1                     NaN  \n",
      "2                     NaN  \n",
      "4                     1.0  \n",
      "5                     NaN  \n",
      "6                     2.0  \n",
      "...                   ...  \n",
      "12096                 1.0  \n",
      "12097                 1.0  \n",
      "12098                 NaN  \n",
      "12099                 1.0  \n",
      "12100                 NaN  \n",
      "\n",
      "[11244 rows x 8 columns]\n"
     ]
    }
   ],
   "source": [
    "d_the_date = \"2020-04-01\"\n",
    "the_date = datetime.strptime(d_the_date, \"%Y-%m-%d\")\n",
    "inactivity_interval=relativedelta(months=+1)\n",
    "the_date_int = the_date-inactivity_interval\n",
    "\n",
    "q_event_count = session.query(Event.account_id, EventType.event_type_name, func.count(Event.account_id).label(\"n_event2measure_permonth\"))\\\n",
    "    .filter(Event.event_time > the_date_int, Event.event_time <= the_date)\\\n",
    "    .join(EventType, EventType.event_type_id==Event.event_type_id)\\\n",
    "    .group_by(Event.account_id, EventType.event_type_name)\n",
    "\n",
    "event_count = pd.read_sql(q_event_count.statement, engine) #.set_index(\"account_id\")\n",
    "#print(event_count)\n",
    "\n",
    "# we do a pivot with pandas\n",
    "df_pivot = event_count.pivot(index=\"account_id\", columns=\"event_type_name\", values=\"n_event2measure_permonth\")\n",
    "print(df_pivot)\n",
    "#print(pretty_sql(engine, q_event_count))"
   ]
  },
  {
   "cell_type": "markdown",
   "metadata": {},
   "source": [
    "## multi date count (§3.2)"
   ]
  },
  {
   "cell_type": "markdown",
   "metadata": {},
   "source": [
    "### mimic SQL command interval (I)"
   ]
  },
  {
   "cell_type": "code",
   "execution_count": 5,
   "metadata": {},
   "outputs": [
    {
     "name": "stdout",
     "output_type": "stream",
     "text": [
      "  start_date   end_date\n",
      "0 2020-02-02 2020-03-01\n",
      "1 2020-02-09 2020-03-08\n",
      "2 2020-02-16 2020-03-15\n",
      "3 2020-02-23 2020-03-22\n",
      "4 2020-03-01 2020-03-29\n"
     ]
    }
   ],
   "source": [
    "# alternative to the interval functionality in postgres is to create a tempory table that can be joined to\n",
    "from datetime import timedelta\n",
    "def make_day_interval(d_start_date, d_end_date, periods, freq_str):\n",
    "    # we let pandas do find the starting date which is\n",
    "    # new-start-date = start-date - (periods * frequency)\n",
    "    seq=pd.date_range(d_start_date, periods=periods+1, freq=f\"-{freq_str}\")\n",
    "    new_start_date=seq[-1]\n",
    "    end_dates=pd.date_range(d_start_date, d_end_date, freq=freq_str)\n",
    "    start_dates=pd.date_range(new_start_date, periods=len(end_dates), freq=freq_str)\n",
    "    df=pd.DataFrame({\"start_date\":start_dates,\"end_date\":end_dates})\n",
    "    df.index.rename(\"id\")\n",
    "    return df \n",
    "\n",
    "#example\n",
    "res=make_day_interval(d_start_date, d_end_date, 4, \"7D\")\n",
    "print(res)\n"
   ]
  },
  {
   "cell_type": "markdown",
   "metadata": {},
   "source": [
    "### mimic SQL command interval (II)"
   ]
  },
  {
   "cell_type": "code",
   "execution_count": 7,
   "metadata": {},
   "outputs": [
    {
     "name": "stdout",
     "output_type": "stream",
     "text": [
      "WITH \"TmpDaysVec\" AS\n",
      "  (SELECT start_date AS start_date,\n",
      "          end_date AS end_date\n",
      "   FROM\n",
      "     (SELECT DATE('2020-02-02') AS start_date,\n",
      "             DATE('2020-03-01') AS end_date\n",
      "      UNION ALL SELECT DATE('2020-02-09') AS start_date,\n",
      "                       DATE('2020-03-08') AS end_date\n",
      "      UNION ALL SELECT DATE('2020-02-16') AS start_date,\n",
      "                       DATE('2020-03-15') AS end_date\n",
      "      UNION ALL SELECT DATE('2020-02-23') AS start_date,\n",
      "                       DATE('2020-03-22') AS end_date\n",
      "      UNION ALL SELECT DATE('2020-03-01') AS start_date,\n",
      "                       DATE('2020-03-29') AS end_date))\n",
      "SELECT \"TmpDaysVec\".start_date,\n",
      "       \"TmpDaysVec\".end_date\n",
      "FROM \"TmpDaysVec\"\n"
     ]
    }
   ],
   "source": [
    "from sqlalchemy import Integer, Date, Column, Table\n",
    "from sqlalchemy import union_all, select\n",
    "from datetime import timedelta\n",
    "\n",
    "# making the Date Intervals available in the data base\n",
    "# example\n",
    "freq=\"7D\" # week has 7 days\n",
    "periods=4 # 4 weeks back in time\n",
    "\n",
    "def dates_dual(fields):\n",
    "    fieldnames=list(fields.keys())\n",
    "    nn= min( [len(x) for key, x in fields.items()])\n",
    "    selecttable=[]\n",
    "    for i in range(nn):\n",
    "        columns = [func.DATE(fields[fname][i].strftime(\"%Y-%m-%d\")).label(fname)\n",
    "            for fname in fieldnames]\n",
    "        selecttable.append(select(columns))\n",
    "    date_column=session.query(union_all(*selecttable))\n",
    "    return date_column\n",
    "\n",
    "some_start=datetime.strptime(d_start_date, \"%Y-%m-%d\") - timedelta(days=periods*7)\n",
    "some_end = datetime.strptime(d_end_date, \"%Y-%m-%d\")\n",
    "drange=pd.to_datetime(pd.date_range(some_start, some_end, freq=\"7D\").to_list())\n",
    "lag=4\n",
    "#print(drange)\n",
    "TmpDaysVec=dates_dual({\"start_date\":drange[:-lag], \"end_date\":drange[lag:]})\\\n",
    "    .cte(\"TmpDaysVec\")\n",
    "print(pretty_sql(engine, session.query(TmpDaysVec)))\n"
   ]
  },
  {
   "cell_type": "markdown",
   "metadata": {},
   "source": [
    "### mimic SQL command innterval (III)"
   ]
  },
  {
   "cell_type": "code",
   "execution_count": 5,
   "metadata": {},
   "outputs": [
    {
     "name": "stdout",
     "output_type": "stream",
     "text": [
      "WITH RECURSIVE cnt(date) AS\n",
      "  (SELECT DATE(Date(DATE('2020-03-01') - 28)) AS date\n",
      "   UNION ALL SELECT DATE(DATE(cnt.date) + 7) AS date\n",
      "   FROM cnt\n",
      "   WHERE DATE(DATE(cnt.date) + 7) <= Date(DATE('2020-04-01') - 28)),\n",
      "               \"TmpDaysVec\" AS\n",
      "  (SELECT anon_1.date AS start_date,\n",
      "          DATE(DATE(anon_1.date) + 28) AS end_date\n",
      "   FROM\n",
      "     (SELECT cnt.date AS date\n",
      "      FROM cnt) AS anon_1)\n",
      "SELECT \"TmpDaysVec\".start_date,\n",
      "       \"TmpDaysVec\".end_date\n",
      "FROM \"TmpDaysVec\"\n",
      "   start_date    end_date\n",
      "0  2020-02-02  2020-03-01\n",
      "1  2020-02-09  2020-03-08\n",
      "2  2020-02-16  2020-03-15\n",
      "3  2020-02-23  2020-03-22\n",
      "4  2020-03-01  2020-03-29\n"
     ]
    }
   ],
   "source": [
    "from sqlalchemy import select, literal, union_all\n",
    "\n",
    "def days_interval(d_start_date, d_end_date, step=7, label=\"date\"):\n",
    "    cnt = session.query(func.DATE(d_start_date).label(label))\\\n",
    "       .cte(name=\"cnt\", recursive=True)\n",
    "    next_date=func.DATE(to_days(cnt.c[label])+(step)).label(label)\n",
    "    end_crit=next_date <= d_end_date\n",
    "    if step<0:\n",
    "        end_crit=next_date >= d_end_date\n",
    "    union_all = cnt.union_all(select([next_date], cnt).where(end_crit))\n",
    "    return session.query(union_all)\n",
    "    #return union_all\n",
    "\n",
    "step=7\n",
    "\n",
    "subq=days_interval(func.Date(to_days(d_start_date)-28), func.Date(to_days(d_end_date)-28), step, \"date\").subquery()\n",
    "TmpDaysVec=session.query(\n",
    "    subq.c.date.label(\"start_date\"),\n",
    "    func.DATE(to_days(subq.c.date)+28).label(\"end_date\")\n",
    "    ).cte(\"TmpDaysVec\")\n",
    "q1=session.query(TmpDaysVec)\n",
    "df=pd.read_sql(q1.statement, engine)\n",
    "print(pretty_sql(engine, q1))\n",
    "print(df)\n"
   ]
  },
  {
   "cell_type": "code",
   "execution_count": 6,
   "metadata": {},
   "outputs": [
    {
     "name": "stdout",
     "output_type": "stream",
     "text": [
      "WITH RECURSIVE cnt(date) AS\n",
      "  (SELECT DATE(Date(DATE('2020-03-01') - 28)) AS date\n",
      "   UNION ALL SELECT DATE(DATE(cnt.date) + 7) AS date\n",
      "   FROM cnt\n",
      "   WHERE DATE(DATE(cnt.date) + 7) <= Date(DATE('2020-04-01') - 28)),\n",
      "               \"TmpDaysVec\" AS\n",
      "  (SELECT anon_1.date AS start_date,\n",
      "          DATE(DATE(anon_1.date) + 28) AS end_date\n",
      "   FROM\n",
      "     (SELECT cnt.date AS date\n",
      "      FROM cnt) AS anon_1)\n",
      "SELECT \"TmpDaysVec\".start_date,\n",
      "       \"TmpDaysVec\".end_date\n",
      "FROM \"TmpDaysVec\"\n",
      "   start_date    end_date\n",
      "0  2020-02-02  2020-03-01\n",
      "1  2020-02-09  2020-03-08\n",
      "2  2020-02-16  2020-03-15\n",
      "3  2020-02-23  2020-03-22\n",
      "4  2020-03-01  2020-03-29\n"
     ]
    }
   ],
   "source": [
    "# the days_interval function can be called from the dbhelper object\n",
    "subq=dbhelper.days_interval(func.Date(to_days(d_start_date)-28), func.Date(to_days(d_end_date)-28), step, \"date\").subquery()\n",
    "TmpDaysVec=session.query(\n",
    "    subq.c.date.label(\"start_date\"),\n",
    "    func.DATE(to_days(subq.c.date)+28).label(\"end_date\")\n",
    "    ).cte(\"TmpDaysVec\")\n",
    "q1=session.query(TmpDaysVec)\n",
    "df=pd.read_sql(q1.statement, engine)\n",
    "print(pretty_sql(engine, q1))\n",
    "print(df)\n"
   ]
  },
  {
   "cell_type": "markdown",
   "metadata": {},
   "source": [
    "## Adding new metric names (§3.4)"
   ]
  },
  {
   "cell_type": "code",
   "execution_count": 7,
   "metadata": {},
   "outputs": [],
   "source": [
    "# this step should be exercised before §3.3 to have a new metric id when inserting to the Metric Table\n",
    "\n",
    "from sqlalchemy import func\n",
    "# finding the last index\n",
    "#max_id=session.query(func.max(MetricName.metric_name_id)).one()[0] or 0\n",
    "#max_id+=1\n",
    "\n",
    "# we simply delete old metrics\n",
    "old_metrics=session.query(MetricName)#.filter(Metric.metric_name_id==new_metric_id)\n",
    "old_metrics.delete()\n",
    "session.commit()\n",
    "\n",
    "# ... and add the new ones\n",
    "max_id=session.query(func.max(MetricName.metric_name_id)).one()[0] or 0\n",
    "new_metrics=session.query(EventType).order_by(EventType.event_type_id).all()\n",
    "for row in new_metrics:\n",
    "    max_id+=1\n",
    "    metric_name=f\"{row.event_type_name}_per_month\"\n",
    "    session.execute(MetricName.__table__.insert(), {\"metric_name\": metric_name, \"metric_name_id\":max_id})\n",
    "\n",
    "# ... will be used in §3.13 (account_tenure)\n",
    "max_id+=1\n",
    "metric_name=\"account_tenure\"\n",
    "session.execute(MetricName.__table__.insert(), {\"metric_name\": metric_name, \"metric_name_id\":max_id})\n",
    "session.commit()\n",
    "    "
   ]
  },
  {
   "cell_type": "markdown",
   "metadata": {},
   "source": [
    "## Metric insert (§3.3)"
   ]
  },
  {
   "cell_type": "code",
   "execution_count": 8,
   "metadata": {},
   "outputs": [
    {
     "name": "stdout",
     "output_type": "stream",
     "text": [
      "        account_id  event_type_id event_type_name        metric_name  \\\n",
      "0                1              1            post     post_per_month   \n",
      "1                1              1            post     post_per_month   \n",
      "2                1              1            post     post_per_month   \n",
      "3                1              1            post     post_per_month   \n",
      "4                1              1            post     post_per_month   \n",
      "...            ...            ...             ...                ...   \n",
      "396089       12100              3            like     like_per_month   \n",
      "396090       12100              4          adview   adview_per_month   \n",
      "396091       12100              5         dislike  dislike_per_month   \n",
      "396092       12100              7         message  message_per_month   \n",
      "396093       12100              8           reply    reply_per_month   \n",
      "\n",
      "        metric_value metric_time  \n",
      "0                 43  2020-03-01  \n",
      "1                 40  2020-03-08  \n",
      "2                 38  2020-03-15  \n",
      "3                 39  2020-03-22  \n",
      "4                 29  2020-03-29  \n",
      "...              ...         ...  \n",
      "396089            45  2020-03-29  \n",
      "396090            17  2020-03-29  \n",
      "396091            16  2020-03-29  \n",
      "396092            81  2020-03-29  \n",
      "396093            24  2020-03-29  \n",
      "\n",
      "[396094 rows x 6 columns]\n"
     ]
    }
   ],
   "source": [
    "# we excercise §3.5 here as well (listing 3.5)\n",
    "\n",
    "from sqlalchemy import and_, literal\n",
    "\n",
    "# we introduce a new column \"metric_name\" to later join with on the metric_name table, getting the right metric_id\n",
    "q_multi_date_count=session.query(Event.account_id, EventType.event_type_id, EventType.event_type_name,\n",
    "                 (EventType.event_type_name + literal(\"_per_month\")).label(\"metric_name\"),\n",
    "                 func.count(Event.event_time).label(\"metric_value\"), \n",
    "                 TmpDaysVec.c.end_date.label(\"metric_time\")\n",
    "                )\\\n",
    "    .join(TmpDaysVec, and_(Event.event_time>=TmpDaysVec.c.start_date, Event.event_time<TmpDaysVec.c.end_date))\\\n",
    "    .join(EventType, Event.event_type_id==EventType.event_type_id )\\\n",
    "    .group_by(Event.account_id, EventType.event_type_id, \"metric_time\")\\\n",
    "    .order_by(Event.account_id, EventType.event_type_id, \"metric_time\") \\\n",
    "    #.filter(Event.account_id==2, Event.event_type_id==5)\n",
    "\n",
    "multi_date_count=pd.read_sql(q_multi_date_count.statement, engine)\n",
    "#print(pretty_sql(engine, q_multi_date_count))\n",
    "print(multi_date_count)"
   ]
  },
  {
   "cell_type": "code",
   "execution_count": 9,
   "metadata": {},
   "outputs": [],
   "source": [
    "# this step (currently §3.3) should comne after the insertion of new matric names\n",
    "\n",
    "from sqlalchemy.sql.expression import literal_column\n",
    "from sqlalchemy import select, Integer\n",
    "\n",
    "# the id of the metric to be calculated\n",
    "#new_metric_id=1\n",
    "\n",
    "# delete all old values \"new_metric_id\"\n",
    "session.commit()\n",
    "old_metrics=session.query(Metric)#.filter(Metric.metric_name_id==new_metric_id)\n",
    "old_metrics.delete()\n",
    "session.commit()\n",
    "\n",
    "# reuse the query from section from previous section\n",
    "new_metrics=q_multi_date_count.cte(\"new_metrics\")\n",
    "q_metric_to_insert=session.query(new_metrics.c.account_id, new_metrics.c.metric_time, MetricName.metric_name_id, new_metrics.c.metric_value )\\\n",
    "    .join(MetricName, MetricName.metric_name==new_metrics.c.metric_name)#\\\n",
    "    #.filter(new_metrics.c.account_id==2, MetricName.metric_name_id==1)\n",
    "#df_new_metrics=pd.read_sql(q_metric_to_insert.statement, engine)\n",
    "#print(df_new_metrics)\n",
    "\n",
    "new_metrics_insert=q_metric_to_insert.cte(\"new_metrics_insert\")\n",
    "select_stm=select([new_metrics_insert.c.account_id, new_metrics_insert.c.metric_time, new_metrics_insert.c.metric_name_id, new_metrics_insert.c.metric_value])\n",
    "target_columns=['account_id', 'metric_time', 'metric_name_id', 'metric_value']\n",
    "session.execute(Metric.__table__.insert().from_select(target_columns, select_stm))\n",
    "session.commit()\n",
    "\n",
    "#print(pretty_sql(engine, q_metric_to_insert))\n",
    "\n"
   ]
  },
  {
   "cell_type": "markdown",
   "metadata": {},
   "source": [
    "## summing up the metric (§3.5)"
   ]
  },
  {
   "cell_type": "code",
   "execution_count": 10,
   "metadata": {},
   "outputs": [],
   "source": [
    "# ignoring this example, since it is included in §3.6\n"
   ]
  },
  {
   "cell_type": "markdown",
   "metadata": {},
   "source": [
    "## metric statistics over time (§3.6)"
   ]
  },
  {
   "cell_type": "code",
   "execution_count": 6,
   "metadata": {},
   "outputs": [
    {
     "name": "stdout",
     "output_type": "stream",
     "text": [
      "SELECT anon_1.metric_name_id,\n",
      "       anon_1.metric_name,\n",
      "       anon_1.metric_time AS metric_time,\n",
      "       anon_1.n_calc,\n",
      "       anon_1.avg,\n",
      "       anon_1.min,\n",
      "       anon_1.max\n",
      "FROM\n",
      "  (SELECT metric.metric_name_id AS metric_name_id,\n",
      "          metric_name.metric_name AS metric_name,\n",
      "          DATE(metric.metric_time) AS metric_time,\n",
      "          avg(metric.metric_value) AS AVG,\n",
      "          sum(metric.metric_value) AS n_calc,\n",
      "          min(metric.metric_value) AS MIN,\n",
      "          max(metric.metric_value) AS MAX\n",
      "   FROM metric\n",
      "   JOIN metric_name ON metric.metric_name_id = metric_name.metric_name_id\n",
      "   GROUP BY metric.metric_name_id,\n",
      "            metric_name.metric_name,\n",
      "            metric.metric_time\n",
      "   ORDER BY metric.metric_name_id,\n",
      "            metric_name.metric_name,\n",
      "            metric.metric_time) AS anon_1\n",
      "    metric_name_id          metric_name metric_time     n_calc        avg  \\\n",
      "0                1       post_per_month  2020-03-01   423424.0  40.021172   \n",
      "1                1       post_per_month  2020-03-08   432890.0  40.544160   \n",
      "2                1       post_per_month  2020-03-15   437884.0  40.813123   \n",
      "3                1       post_per_month  2020-03-22   445646.0  41.328573   \n",
      "4                1       post_per_month  2020-03-29   448146.0  41.479637   \n",
      "5                2  newfriend_per_month  2020-03-01    70243.0   7.277559   \n",
      "6                2  newfriend_per_month  2020-03-08    71115.0   7.299836   \n",
      "7                2  newfriend_per_month  2020-03-15    71883.0   7.352255   \n",
      "8                2  newfriend_per_month  2020-03-22    72479.0   7.394307   \n",
      "9                2  newfriend_per_month  2020-03-29    73288.0   7.396851   \n",
      "10               3       like_per_month  2020-03-01   966141.0  90.015932   \n",
      "11               3       like_per_month  2020-03-08   989727.0  91.421301   \n",
      "12               3       like_per_month  2020-03-15  1000710.0  91.724106   \n",
      "13               3       like_per_month  2020-03-22  1021234.0  93.374234   \n",
      "14               3       like_per_month  2020-03-29  1028307.0  93.721017   \n",
      "15               4     adview_per_month  2020-03-01   410777.0  38.745237   \n",
      "16               4     adview_per_month  2020-03-08   418027.0  39.075248   \n",
      "17               4     adview_per_month  2020-03-15   421081.0  39.155756   \n",
      "18               4     adview_per_month  2020-03-22   428208.0  39.704033   \n",
      "19               4     adview_per_month  2020-03-29   429623.0  39.713718   \n",
      "20               5    dislike_per_month  2020-03-01   158810.0  15.449946   \n",
      "21               5    dislike_per_month  2020-03-08   161191.0  15.566490   \n",
      "22               5    dislike_per_month  2020-03-15   162358.0  15.553022   \n",
      "23               5    dislike_per_month  2020-03-22   164505.0  15.707534   \n",
      "24               5    dislike_per_month  2020-03-29   165404.0  15.742267   \n",
      "25               6   unfriend_per_month  2020-03-01     9556.0   1.513942   \n",
      "26               6   unfriend_per_month  2020-03-08     9634.0   1.517165   \n",
      "27               6   unfriend_per_month  2020-03-15     9582.0   1.525068   \n",
      "28               6   unfriend_per_month  2020-03-22     9513.0   1.506652   \n",
      "29               6   unfriend_per_month  2020-03-29     9549.0   1.516677   \n",
      "30               7    message_per_month  2020-03-01   582147.0  55.463700   \n",
      "31               7    message_per_month  2020-03-08   595534.0  56.171854   \n",
      "32               7    message_per_month  2020-03-15   600464.0  56.360428   \n",
      "33               7    message_per_month  2020-03-22   610567.0  57.003734   \n",
      "34               7    message_per_month  2020-03-29   613023.0  57.009486   \n",
      "35               8      reply_per_month  2020-03-01   222220.0  23.308160   \n",
      "36               8      reply_per_month  2020-03-08   226523.0  23.522638   \n",
      "37               8      reply_per_month  2020-03-15   228996.0  23.576238   \n",
      "38               8      reply_per_month  2020-03-22   232967.0  23.764868   \n",
      "39               8      reply_per_month  2020-03-29   235324.0  23.861691   \n",
      "40               9       account_tenure  2020-03-01   426817.0  41.894091   \n",
      "41               9       account_tenure  2020-03-08   487801.0  47.539324   \n",
      "42               9       account_tenure  2020-03-15   551753.0  53.273438   \n",
      "43               9       account_tenure  2020-03-22   615929.0  59.013989   \n",
      "44               9       account_tenure  2020-03-29   677382.0  64.611026   \n",
      "\n",
      "    min     max  \n",
      "0   1.0  2176.0  \n",
      "1   1.0  2200.0  \n",
      "2   1.0  2115.0  \n",
      "3   1.0  2122.0  \n",
      "4   1.0  2115.0  \n",
      "5   1.0   163.0  \n",
      "6   1.0   163.0  \n",
      "7   1.0   167.0  \n",
      "8   1.0   171.0  \n",
      "9   1.0   175.0  \n",
      "10  1.0  9207.0  \n",
      "11  1.0  9492.0  \n",
      "12  1.0  9356.0  \n",
      "13  1.0  9522.0  \n",
      "14  1.0  9421.0  \n",
      "15  1.0  5602.0  \n",
      "16  1.0  5635.0  \n",
      "17  1.0  5626.0  \n",
      "18  1.0  5621.0  \n",
      "19  1.0  5547.0  \n",
      "20  1.0   602.0  \n",
      "21  1.0   608.0  \n",
      "22  1.0   600.0  \n",
      "23  1.0   594.0  \n",
      "24  1.0   602.0  \n",
      "25  1.0     8.0  \n",
      "26  1.0     7.0  \n",
      "27  1.0     7.0  \n",
      "28  1.0     7.0  \n",
      "29  1.0     7.0  \n",
      "30  1.0  3430.0  \n",
      "31  1.0  3500.0  \n",
      "32  1.0  3533.0  \n",
      "33  1.0  3506.0  \n",
      "34  1.0  3526.0  \n",
      "35  1.0  1166.0  \n",
      "36  1.0  1203.0  \n",
      "37  1.0  1201.0  \n",
      "38  1.0  1187.0  \n",
      "39  1.0  1194.0  \n",
      "40  0.0    60.0  \n",
      "41  0.0    67.0  \n",
      "42  0.0    74.0  \n",
      "43  0.0    81.0  \n",
      "44  0.0    88.0  \n"
     ]
    }
   ],
   "source": [
    "\n",
    "q_metric_stats_over_time_sub=session.query(Metric.metric_name_id, MetricName.metric_name, \n",
    "                func.DATE(Metric.metric_time).label(\"metric_time\"),\n",
    "                func.avg(Metric.metric_value).label(\"avg\"),\n",
    "                func.sum(Metric.metric_value).label(\"n_calc\"),\n",
    "                func.min(Metric.metric_value).label(\"min\"),\n",
    "                func.max(Metric.metric_value).label(\"max\"))\\\n",
    "    .join(MetricName, Metric.metric_name_id==MetricName.metric_name_id)\\\n",
    "    .group_by(Metric.metric_name_id, MetricName.metric_name, Metric.metric_time)\\\n",
    "    .order_by(Metric.metric_name_id, MetricName.metric_name, Metric.metric_time)\n",
    "subq=q_metric_stats_over_time_sub.subquery()\n",
    "q_metric_stats_over_time=session.query(subq.c.metric_name_id, \n",
    "                subq.c.metric_name, subq.c.metric_time.label(\"metric_time\"), \n",
    "                subq.c.n_calc, subq.c.avg, subq.c.min, subq.c.max)\n",
    "\n",
    "print(pretty_sql(engine, q_metric_stats_over_time))\n",
    "metric_stats_over_time=pd.read_sql(q_metric_stats_over_time.statement, engine)\n",
    "print(metric_stats_over_time)\n"
   ]
  },
  {
   "cell_type": "markdown",
   "metadata": {},
   "source": [
    "## plotting the statics (§3.7)"
   ]
  },
  {
   "cell_type": "code",
   "execution_count": 7,
   "metadata": {},
   "outputs": [
    {
     "data": {
      "text/plain": [
       "<module 'matplotlib.pyplot' from 'C:\\\\bin\\\\Anaconda3\\\\envs\\\\fightchurn\\\\lib\\\\site-packages\\\\matplotlib\\\\pyplot.py'>"
      ]
     },
     "execution_count": 7,
     "metadata": {},
     "output_type": "execute_result"
    },
    {
     "data": {
      "image/png": "[encoded data removed]",
      "text/plain": [
       "<Figure size 1080x720 with 4 Axes>"
      ]
     },
     "metadata": {
      "needs_background": "light"
     },
     "output_type": "display_data"
    }
   ],
   "source": [
    "import pandas as pd\n",
    "import matplotlib.pyplot as plt\n",
    "from math import ceil\n",
    "\n",
    "def metric_qa_plot(qa_data_df, metric_name,**kwargs):\n",
    "    plt.figure(  figsize=[15,10])\n",
    "    qa_subplot(qa_data_df,'max',1,None)\n",
    "    plt.title(metric_name)\n",
    "    qa_subplot(qa_data_df,'avg',2,'--')\n",
    "    qa_subplot(qa_data_df,'median',3,'-.')\n",
    "    qa_subplot(qa_data_df,'n_calc',4,':')\n",
    "    plt.gca().figure.autofmt_xdate()\n",
    "    return plt\n",
    "\n",
    "def qa_subplot(qa_data_df, field, number, linestyle):\n",
    "    plt.subplot(4, 1, number)\n",
    "    plt.plot('metric_time', field, data=qa_data_df, marker='', linestyle=linestyle, color='black', linewidth=2, label=field)\n",
    "    plt.ylim(0, ceil(1.1 * qa_data_df[field].dropna().max()))\n",
    "    plt.legend()\n",
    "\n",
    "title=\"adview_per_month\"\n",
    "#title=\"adview_per_month\"\n",
    "q_data=session.query(\n",
    "        Metric.account_id, \n",
    "        func.DATE(Metric.metric_time).label(\"metric_time\"),\n",
    "        MetricName.metric_name,\n",
    "        Metric.metric_value, \n",
    "    )\\\n",
    "    .join(MetricName, MetricName.metric_name_id == Metric.metric_name_id)\n",
    "#print(pretty_sql(engine, q_data))\n",
    "data_metric=pd.read_sql(q_data.statement, engine)\n",
    "\n",
    "# looking to the medians\n",
    "data_medians_pre=data_metric[[\"metric_time\", \"metric_value\", \"metric_name\"]].set_index([\"metric_time\",\"metric_name\"])\n",
    "data_medians=data_medians_pre.groupby([\"metric_time\", \"metric_name\"]).median()\n",
    "data_medians=data_medians.rename(columns={\"metric_value\":\"median\"})\n",
    "#only_medians=data_medians[np.in1d(data_medians.index.get_level_values(1), title)]\n",
    "#print(data_medians)\n",
    "\n",
    "metricslist=list(metric_stats_over_time[\"metric_name\"].value_counts().index)\n",
    "\n",
    "data_old=metric_stats_over_time.loc[metric_stats_over_time[\"metric_name\"]==title].set_index([\"metric_time\", \"metric_name\"])\n",
    "data_old=pd.merge(data_old, data_medians, on=[\"metric_time\", \"metric_name\"])#.set_index([\"metric_time\"])\n",
    "data_old=data_old.reset_index([\"metric_time\"])\n",
    "metric_qa_plot(data_old, title)\n",
    "\n"
   ]
  },
  {
   "cell_type": "markdown",
   "metadata": {},
   "source": [
    "Showing only mean, min and max does not give hints to how the values are distributed.\n",
    "With a violine chart we would get a better impression of the data."
   ]
  },
  {
   "cell_type": "code",
   "execution_count": 8,
   "metadata": {},
   "outputs": [
    {
     "name": "stdout",
     "output_type": "stream",
     "text": [
      "setting clipping 135.0\n"
     ]
    },
    {
     "data": {
      "image/png": "[encoded data removed]",
      "text/plain": [
       "<Figure size 1080x720 with 2 Axes>"
      ]
     },
     "metadata": {},
     "output_type": "display_data"
    }
   ],
   "source": [
    "from scipy import stats\n",
    "import numpy as np\n",
    "import seaborn as sns\n",
    "sns.set_theme(style=\"whitegrid\")\n",
    "\n",
    "def metric_qa_violine(qa_data_df, qa_data_df2, alpha, metric_name,**kwargs):\n",
    "    fig3 = plt.figure(constrained_layout=True, figsize=[15,10])\n",
    "    gs = fig3.add_gridspec(15, 3)\n",
    "    f3_ax1 = fig3.add_subplot(gs[3:, :])\n",
    "    plt.title(\"{metric_name} (%1d%% highest outliers clipped down)\" % ((1-alpha)*100))\n",
    "    \n",
    "    qa_sub_violine(qa_data_df,'metric_value_clip',f3_ax1,None)\n",
    "    f3_ax2 = fig3.add_subplot(gs[:3, :])\n",
    "    qa_subplot(qa_data_df2,'avg',f3_ax2,':')\n",
    "    plt.title(f\"{metric_name} (average)\")\n",
    "    return plt\n",
    "\n",
    "def qa_sub_violine(qa_data_df, field, ax1, linestyle):\n",
    "    ax=sns.violinplot(x=\"metric_time\", y=field, data=qa_data_df, ax=ax1)\n",
    "    x_dates = qa_data_df[\"metric_time\"].sort_values().unique()\n",
    "    #x_dates = qa_data_df[\"metric_time\"].dt.strftime('%Y-%m-%d').sort_values().unique()\n",
    "    ax.set_xticklabels(labels=x_dates, rotation=45, ha='right')\n",
    "    #ax.legend()\n",
    "\n",
    "def qa_subplot(qa_data_df, field, ax1, linestyle):\n",
    "    ret1=ax1.plot(\"metric_time\", 'avg', data=qa_data_df, marker='*', linestyle=linestyle, color='black', linewidth=2, label=\"avg\")\n",
    "    ret2=ax1.plot(\"metric_time\", 'median', data=qa_data_df, marker='+', linestyle=linestyle, color='blue', linewidth=2, label=\"median\")\n",
    "    ax1.axis(ymin=0, ymax=ceil(1.1 * qa_data_df[field].dropna().max()))\n",
    "    ax1.get_xaxis().set_visible(False)\n",
    "    ax1.legend()\n",
    "\n",
    "\n",
    "df=data_metric\n",
    "alpha=0.95\n",
    "percentiles_arg = df['metric_value'].quantile(alpha)\n",
    "print(f\"setting clipping {percentiles_arg}\")\n",
    "df['metric_value_clip']=df['metric_value'].map(lambda x: min(x, percentiles_arg))\n",
    "\n",
    "\n",
    "\n",
    "# we reuse the data from the plot above \"data_old\"\n",
    "metric_qa_violine(df, data_old, alpha, title)\n",
    "\n",
    "pass\n"
   ]
  },
  {
   "cell_type": "markdown",
   "metadata": {},
   "source": [
    "## metric coverage (§3.8)"
   ]
  },
  {
   "cell_type": "code",
   "execution_count": 9,
   "metadata": {},
   "outputs": [
    {
     "name": "stdout",
     "output_type": "stream",
     "text": [
      "           metric_name  count_with_metric  n_account  pcnt_with_metric  \\\n",
      "0       account_tenure              11178      11309          0.988416   \n",
      "1     adview_per_month              11011      11309          0.973649   \n",
      "2    dislike_per_month              10876      11309          0.961712   \n",
      "3       like_per_month              11087      11309          0.980370   \n",
      "4    message_per_month              10992      11309          0.971969   \n",
      "5  newfriend_per_month              10586      11309          0.936069   \n",
      "6       post_per_month              11011      11309          0.973649   \n",
      "7      reply_per_month              10588      11309          0.936245   \n",
      "8   unfriend_per_month               8826      11309          0.780440   \n",
      "\n",
      "   avg_value  min_value  max_value earliest_metric last_metric  \n",
      "0  53.491936        0.0       88.0      2020-03-01  2020-03-29  \n",
      "1  40.902051        1.0     5635.0      2020-03-01  2020-03-29  \n",
      "2  16.125132        1.0      608.0      2020-03-01  2020-03-29  \n",
      "3  96.368465        1.0     9522.0      2020-03-01  2020-03-29  \n",
      "4  58.715193        1.0     3533.0      2020-03-01  2020-03-29  \n",
      "5   7.511594        1.0      175.0      2020-03-01  2020-03-29  \n",
      "6  42.490308        1.0     2200.0      2020-03-01  2020-03-29  \n",
      "7  24.311900        1.0     1203.0      2020-03-01  2020-03-29  \n",
      "8   1.524350        1.0        8.0      2020-03-01  2020-03-29  \n"
     ]
    }
   ],
   "source": [
    "\n",
    "from sqlalchemy import distinct, literal, and_, Float, cast\n",
    "\n",
    "account_count = session.query(func.count(distinct(Subscription.account_id)).label(\"n_account\"))\\\n",
    "    .filter(Subscription.start_date <= d_end_date,\n",
    "        or_(Subscription.end_date >= d_start_date, Subscription.end_date == None))\\\n",
    "    .cte(\"account_count\")\n",
    "\n",
    "q_metric_coverage = session.query(MetricName.metric_name,\n",
    "              func.count(distinct(Metric.account_id)).label(\"count_with_metric\"), \n",
    "              account_count.c.n_account,\\\n",
    "              (cast(func.count(distinct(Metric.account_id)),Float) / account_count.c.n_account).label(\"pcnt_with_metric\"),\\\n",
    "              func.avg(Metric.metric_value).label(\"avg_value\"),\\\n",
    "              func.min(Metric.metric_value).label(\"min_value\"),\\\n",
    "              func.max(Metric.metric_value).label(\"max_value\"),\\\n",
    "              func.DATE(func.min(Metric.metric_time)).label(\"earliest_metric\"),\\\n",
    "              func.DATE(func.max(Metric.metric_time)).label(\"last_metric\"))\\\n",
    "        .join(MetricName, Metric.metric_name_id==MetricName.metric_name_id)\\\n",
    "        .join(account_count, literal(True))\\\n",
    "        .join(Subscription, and_(\n",
    "            Metric.account_id==Subscription.account_id,\n",
    "            Subscription.start_date <= Metric.metric_time,\n",
    "            or_(Subscription.end_date >= Metric.metric_time, Subscription.end_date == None)))\\\n",
    "        .filter(Metric.metric_time>=d_start_date, Metric.metric_time<=d_end_date)\\\n",
    "        .group_by(MetricName.metric_name,Metric.metric_name_id, account_count.c.n_account)\\\n",
    "        .order_by(MetricName.metric_name)\\\n",
    "#        .filter(Metric.account_id<100)\n",
    "\n",
    "\n",
    "metric_coverage = pd.read_sql(q_metric_coverage.statement, engine)\n",
    "print(metric_coverage)\n",
    "pass\n",
    "\n"
   ]
  },
  {
   "cell_type": "markdown",
   "metadata": {},
   "source": [
    "## events per day (§3.9)"
   ]
  },
  {
   "cell_type": "code",
   "execution_count": 11,
   "metadata": {},
   "outputs": [
    {
     "name": "stdout",
     "output_type": "stream",
     "text": [
      "   event_type_name  event_date  n_event\n",
      "0           adview  2020-03-01    16117\n",
      "1           adview  2020-03-02    13495\n",
      "2           adview  2020-03-03    14994\n",
      "3           adview  2020-03-04    14724\n",
      "4           adview  2020-03-05    13456\n",
      "5           adview  2020-03-06    15444\n",
      "6           adview  2020-03-07    17366\n",
      "7           adview  2020-03-08    15789\n",
      "8           adview  2020-03-09    14812\n",
      "9           adview  2020-03-10    13752\n",
      "10          adview  2020-03-11    13930\n",
      "11          adview  2020-03-12    13632\n",
      "12          adview  2020-03-13    17575\n",
      "13          adview  2020-03-14    16737\n",
      "14          adview  2020-03-15    16749\n",
      "15          adview  2020-03-16    14186\n",
      "16          adview  2020-03-17    14585\n",
      "17          adview  2020-03-18    14877\n",
      "18          adview  2020-03-19    15718\n",
      "19          adview  2020-03-20    16791\n",
      "20          adview  2020-03-21    16903\n",
      "21          adview  2020-03-22    15901\n",
      "22          adview  2020-03-23    15344\n",
      "23          adview  2020-03-24    15272\n",
      "24          adview  2020-03-25    15607\n",
      "25          adview  2020-03-26    14114\n",
      "26          adview  2020-03-27    15648\n",
      "27          adview  2020-03-28    16105\n",
      "28          adview  2020-03-29    16125\n",
      "29          adview  2020-03-30    14865\n",
      "30          adview  2020-03-31    13487\n",
      "31          adview  2020-04-01    15889\n"
     ]
    }
   ],
   "source": [
    "\n",
    "from sqlalchemy import Column, Date, Integer, cast\n",
    "\n",
    "# we need to create a temporary Table containing a sequence of Dates\n",
    "#drange=pd.to_datetime(pd.date_range(d_start_date, d_end_date, freq=\"1D\").to_list())\n",
    "#TmpDailyVec=dates_dual({\"calc_date\":drange}).cte(\"TmpDailyVec\")\n",
    "TmpDailyVec=dbhelper.days_interval(d_start_date, d_end_date, step=1, label=\"calc_date\").cte(\"TmpDailyVec\")\n",
    "#print(pretty_sql(engine, session.query(TmpDailyVec)))\n",
    "\n",
    "\n",
    "# be carefule when using sqlite\n",
    "# for sqlite you need to use the cast \"func.DATE\"\n",
    "#    see reference:\n",
    "#    https://stackoverflow.com/questions/17333014/convert-selected-datetime-to-date-in-sqlalchemy\n",
    "events_per_day = session.query(\n",
    "        Event.event_type_id.label(\"event_type_id\"),\n",
    "        func.DATE(Event.event_time).label(\"calc_date\"),\n",
    "        func.count(Event.event_time).label(\"n_event\"))\\\n",
    "    .group_by(Event.event_type_id,\"calc_date\")\\\n",
    "    .cte(\"events_per_day\")\n",
    "q_events_per_day = session.query(\n",
    "        EventType.event_type_name,\n",
    "        #events_per_day.c.event_type_id,\n",
    "        TmpDailyVec.c.calc_date.label(\"event_date\"),\n",
    "        events_per_day.c.n_event\n",
    "        )\\\n",
    "    .join(events_per_day, func.DATE(TmpDailyVec.c.calc_date)==events_per_day.c.calc_date)\\\n",
    "    .join(EventType, EventType.event_type_id==events_per_day.c.event_type_id)\\\n",
    "    .order_by(\"event_type_id\",\"event_date\") \\\n",
    "    .filter(EventType.event_type_name == \"adview\")\n",
    "\n",
    "events_per_day = pd.read_sql(q_events_per_day.statement, engine)\n",
    "print(events_per_day)"
   ]
  },
  {
   "cell_type": "markdown",
   "metadata": {},
   "source": [
    "## plotting the events (§3.10)"
   ]
  },
  {
   "cell_type": "code",
   "execution_count": 12,
   "metadata": {},
   "outputs": [
    {
     "data": {
      "image/png": "[encoded data removed]",
      "text/plain": [
       "<Figure size 432x288 with 1 Axes>"
      ]
     },
     "metadata": {},
     "output_type": "display_data"
    }
   ],
   "source": [
    "import pandas as pd\n",
    "import matplotlib.pyplot as plt\n",
    "from math import ceil\n",
    "\n",
    "def event_count_plot(qa_data_df, event_name,**kwargs):\n",
    "    #event_data_path = qa_data_path + '_' + event_name + '.csv'\n",
    "    #qa_data_df=pd.read_csv(event_data_path)\n",
    "    plt.figure(figsize=(6, 4))\n",
    "    plt.plot('event_date', 'n_event', data=qa_data_df, marker='', color='black', linewidth=2)\n",
    "    plt.ylim(0, ceil(1.1 * qa_data_df['n_event'].dropna().max()))\n",
    "    plt.title('{} event count'.format(event_name))\n",
    "    plt.gca().figure.autofmt_xdate()\n",
    "    #plt.xticks(list(filter(lambda x:x.endswith((\"01\")),qa_data_df['event_date'].tolist())))\n",
    "    plt.tight_layout()\n",
    "    #save_to_path=event_data_path.replace('.csv', '_' + event_name + '_event_qa.png')\n",
    "    #print('Saving metric qa plot to ' + save_to_path)\n",
    "    #plt.savefig(save_to_path)\n",
    "    #plt.close()\n",
    "\n",
    "event_count_plot(events_per_day, \"adview\")"
   ]
  },
  {
   "cell_type": "markdown",
   "metadata": {},
   "source": [
    "## events per account (§3.11)"
   ]
  },
  {
   "cell_type": "code",
   "execution_count": 13,
   "metadata": {},
   "outputs": [
    {
     "name": "stdout",
     "output_type": "stream",
     "text": [
      "  event_type_name  n_event  n_account  events_per_account  n_months  \\\n",
      "0            like  1133474      11309          100.227606  1.107143   \n",
      "1         message   676222      11309           59.795031  1.107143   \n",
      "2            post   494323      11309           43.710584  1.107143   \n",
      "3          adview   474100      11309           41.922363  1.107143   \n",
      "4           reply   259839      11309           22.976302  1.107143   \n",
      "5         dislike   182581      11309           16.144752  1.107143   \n",
      "6       newfriend    81191      11309            7.179326  1.107143   \n",
      "7        unfriend    10577      11309            0.935273  1.107143   \n",
      "\n",
      "   events_per_account_per_month  \n",
      "0                     90.528161  \n",
      "1                     54.008415  \n",
      "2                     39.480528  \n",
      "3                     37.865360  \n",
      "4                     20.752789  \n",
      "5                     14.582357  \n",
      "6                      6.484553  \n",
      "7                      0.844763  \n"
     ]
    }
   ],
   "source": [
    "\n",
    "from sqlalchemy import distinct, literal, and_, Float, cast, desc\n",
    "\n",
    "account_count = session.query(func.count(distinct(Subscription.account_id)).label(\"n_account\"))\\\n",
    "    .filter(Subscription.start_date <= d_end_date,\n",
    "        or_(Subscription.end_date >= d_start_date, Subscription.end_date == None))\\\n",
    "    .cte(\"account_count\")\n",
    "\n",
    "n_months=days_between(d_start_date,d_end_date)/28\n",
    "\n",
    "q_events_per_account = session.query(\n",
    "        EventType.event_type_name, \n",
    "        func.count(Event.event_type_id).label(\"n_event\"),\n",
    "        account_count.c.n_account,\n",
    "        (cast(func.count(Event.event_type_id),Float) / account_count.c.n_account).label(\"events_per_account\"),\n",
    "        literal(n_months).label(\"n_months\"),\n",
    "        (cast(func.count(Event.event_type_id), Float) / account_count.c.n_account / n_months).label(\"events_per_account_per_month\"))\\\n",
    "    .join(EventType, Event.event_type_id==EventType.event_type_id )\\\n",
    "    .join(account_count, literal(True))\\\n",
    "    .filter(and_(Event.event_time>=d_start_date, Event.event_time<=d_end_date))\\\n",
    "    .group_by(EventType.event_type_name,Event.event_type_id, account_count.c.n_account)\\\n",
    "    .order_by(desc(\"events_per_account_per_month\"))\n",
    "\n",
    "events_per_account = pd.read_sql(q_events_per_account.statement, engine)\n",
    "print(events_per_account)\n",
    "pass\n"
   ]
  },
  {
   "cell_type": "markdown",
   "metadata": {},
   "source": [
    "## account tenure (§3.12)"
   ]
  },
  {
   "cell_type": "code",
   "execution_count": 14,
   "metadata": {},
   "outputs": [
    {
     "name": "stdout",
     "output_type": "stream",
     "text": [
      "       account_id earliest_start  subscriber_tenure_days\n",
      "0               1     2020-01-05                    87.0\n",
      "1               4     2020-01-14                    78.0\n",
      "2               5     2020-01-02                    90.0\n",
      "3               7     2020-01-08                    84.0\n",
      "4               8     2020-01-03                    89.0\n",
      "...           ...            ...                     ...\n",
      "10567       13170     2020-04-01                     0.0\n",
      "10568       13197     2020-04-01                     0.0\n",
      "10569       13265     2020-04-01                     0.0\n",
      "10570       13287     2020-04-01                     0.0\n",
      "10571       13306     2020-04-01                     0.0\n",
      "\n",
      "[10572 rows x 3 columns]\n"
     ]
    }
   ],
   "source": [
    "\n",
    "from sqlalchemy import and_\n",
    "\n",
    "d_calc_date=d_end_date\n",
    "\n",
    "earlier_starts = session.query(Subscription.account_id, func.min(Subscription.start_date).label(\"start_date\"))\\\n",
    "    .filter(Subscription.start_date <= d_calc_date,\n",
    "        or_(Subscription.end_date > d_calc_date, Subscription.end_date == None))\\\n",
    "    .group_by(Subscription.account_id)\\\n",
    "    .cte(recursive=True, name=\"earlier_starts\")\n",
    "\n",
    "earlier_starts_L = session.query(Subscription.account_id, Subscription.start_date)\\\n",
    "    .join(earlier_starts, Subscription.account_id == earlier_starts.c.account_id)\\\n",
    "    .filter(and_(Subscription.start_date < earlier_starts.c.start_date,\n",
    "        Subscription.end_date >= (earlier_starts.c.start_date-31)))\n",
    "\n",
    "union_all = earlier_starts.union_all(earlier_starts_L)\n",
    "subq=session.query(union_all).subquery()\n",
    "\n",
    "# for sqlite we need to use \"julianday\" do calculate the date diferences\n",
    "# that's why we make use of a helper function \"to_days\" being the identity for postgres, \n",
    "# but the call of \"func.julianday\" in sqlite mode\n",
    "qr=session.query(\n",
    "        subq.c.account_id, \n",
    "        func.min(subq.c.start_date).label(\"earliest_start\"),\n",
    "        (to_days(d_calc_date)-to_days(func.min(subq.c.start_date))).label(\"subscriber_tenure_days\")\n",
    "        )\\\n",
    "    .group_by(subq.c.account_id)\\\n",
    "    .order_by(\"account_id\")\\\n",
    "    #.filter(subq.c.account_id<10)\n",
    "    \n",
    "account_tenure = pd.read_sql(qr.statement, engine)\n",
    "print(account_tenure)\n"
   ]
  },
  {
   "cell_type": "markdown",
   "metadata": {},
   "source": [
    "## account tenure insert (§3.13)"
   ]
  },
  {
   "cell_type": "code",
   "execution_count": 18,
   "metadata": {},
   "outputs": [
    {
     "name": "stdout",
     "output_type": "stream",
     "text": [
      "       account_id metric_time  metric_name_id  metric_value\n",
      "0               1  2020-03-01               9          56.0\n",
      "1               1  2020-03-08               9          63.0\n",
      "2               1  2020-03-15               9          70.0\n",
      "3               1  2020-03-22               9          77.0\n",
      "4               1  2020-03-29               9          84.0\n",
      "...           ...         ...             ...           ...\n",
      "51722       12098  2020-03-29               9           5.0\n",
      "51723       12099  2020-03-22               9           6.0\n",
      "51724       12099  2020-03-29               9          13.0\n",
      "51725       12100  2020-03-22               9           6.0\n",
      "51726       12100  2020-03-29               9          13.0\n",
      "\n",
      "[51727 rows x 4 columns]\n"
     ]
    }
   ],
   "source": [
    "\n",
    "from sqlalchemy import literal, select\n",
    "\n",
    "step=7\n",
    "subq_days=dbhelper.days_interval(func.Date(to_days(d_start_date)-28), func.Date(to_days(d_end_date)-28), step=step, label=\"date\").subquery()\n",
    "TmpDaysVec=session.query(\n",
    "    subq_days.c.date.label(\"start_date\"),\n",
    "    func.DATE(to_days(subq_days.c.date)+28).label(\"end_date\")\n",
    "    ).cte(\"TmpDaysVec\")\n",
    "\n",
    "earlier_starts = session.query(Subscription.account_id, (TmpDaysVec.c.end_date).label(\"metric_date\"), func.min(Subscription.start_date).label(\"start_date\"))\\\n",
    "    .join(TmpDaysVec, and_(Subscription.start_date <= TmpDaysVec.c.end_date,\n",
    "        or_(Subscription.end_date > TmpDaysVec.c.end_date, Subscription.end_date == None)))\\\n",
    "    .group_by(Subscription.account_id, \"metric_date\")\\\n",
    "    .cte(recursive=True, name=\"earlier_starts\")\n",
    "\n",
    "earlier_starts_L = session.query(Subscription.account_id, earlier_starts.c.metric_date, Subscription.start_date)\\\n",
    "    .join(earlier_starts, Subscription.account_id == earlier_starts.c.account_id)\\\n",
    "    .filter(and_(Subscription.start_date < earlier_starts.c.start_date,\n",
    "        Subscription.end_date >= (earlier_starts.c.start_date-31)))\n",
    "\n",
    "\n",
    "metric_id=session.query(MetricName.metric_name_id).filter(MetricName.metric_name==\"account_tenure\").one()[0]\n",
    "\n",
    "# delete if existing already\n",
    "session.commit()\n",
    "old_metrics=session.query(Metric).filter(Metric.metric_name_id==metric_id)\n",
    "old_metrics.delete()\n",
    "session.commit()\n",
    "\n",
    "\n",
    "union_all = earlier_starts.union_all(earlier_starts_L)\n",
    "subq=session.query(union_all).subquery()\n",
    "qr=session.query(\n",
    "        subq.c.account_id,\n",
    "        subq.c.metric_date.label(\"metric_time\"),\n",
    "        literal(metric_id).label(\"metric_name_id\"),\n",
    "        # for postgres we can use this\n",
    "        #(subq.c.metric_date-func.min(subq.c.start_date)).label(\"metric_value\"),\n",
    "        # ...but for sqlite we need to use \"juliandate\"\n",
    "        (to_days(subq.c.metric_date)\n",
    "             -to_days(func.min(subq.c.start_date))).label(\"metric_value\"),\n",
    "\n",
    "    ) \\\n",
    "    .group_by(subq.c.account_id,  subq.c.metric_date)\\\n",
    "    .order_by(\"account_id\",  subq.c.metric_date)\n",
    "\n",
    "account_tenure = pd.read_sql(qr.statement, engine)\n",
    "print(account_tenure)\n",
    "\n",
    "new_metrics_insert=qr.cte(\"new_metrics_insert\")\n",
    "select_stm=select([new_metrics_insert.c.account_id, new_metrics_insert.c.metric_time, new_metrics_insert.c.metric_name_id, new_metrics_insert.c.metric_value])\n",
    "target_columns=['account_id', 'metric_time', 'metric_name_id', 'metric_value']\n",
    "session.execute(Metric.__table__.insert().from_select(target_columns, select_stm))\n",
    "session.commit()\n",
    "\n"
   ]
  },
  {
   "cell_type": "markdown",
   "metadata": {},
   "source": [
    "## mrr, unit_quantity, billing_period (§§ 3.14/15/16)"
   ]
  },
  {
   "cell_type": "code",
   "execution_count": 19,
   "metadata": {},
   "outputs": [
    {
     "name": "stdout",
     "output_type": "stream",
     "text": [
      "       account_id metric_date  total_mrr  billing_period\n",
      "0               1  2020-03-01       4.99               1\n",
      "1               1  2020-03-08       4.99               1\n",
      "2               1  2020-03-15       4.99               1\n",
      "3               1  2020-03-22       4.99               1\n",
      "4               1  2020-03-29       4.99               1\n",
      "...           ...         ...        ...             ...\n",
      "51722       12098  2020-03-29      29.99               1\n",
      "51723       12099  2020-03-22       4.99               1\n",
      "51724       12099  2020-03-29       4.99               1\n",
      "51725       12100  2020-03-22       4.99               1\n",
      "51726       12100  2020-03-29       4.99               1\n",
      "\n",
      "[51727 rows x 4 columns]\n",
      "       account_id metric_date total_UNIT\n",
      "0               1  2020-03-01       None\n",
      "1               1  2020-03-08       None\n",
      "2               1  2020-03-15       None\n",
      "3               1  2020-03-22       None\n",
      "4               1  2020-03-29       None\n",
      "...           ...         ...        ...\n",
      "51722       12098  2020-03-29       None\n",
      "51723       12099  2020-03-22       None\n",
      "51724       12099  2020-03-29       None\n",
      "51725       12100  2020-03-22       None\n",
      "51726       12100  2020-03-29       None\n",
      "\n",
      "[51727 rows x 3 columns]\n"
     ]
    }
   ],
   "source": [
    "\n",
    "from sqlalchemy import func\n",
    "\n",
    "q_quants = session.query( \n",
    "        Subscription.account_id,\n",
    "        (TmpDaysVec.c.end_date).label(\"metric_date\"),\n",
    "        func.sum(Subscription.mrr).label(\"total_mrr\"),\n",
    "        func.sum(Subscription.bill_period_months).label(\"billing_period\"))\\\n",
    "    .join(TmpDaysVec, \n",
    "          and_(Subscription.start_date <= TmpDaysVec.c.end_date, \n",
    "                or_(Subscription.end_date > TmpDaysVec.c.end_date, Subscription.end_date == None)))\\\n",
    "    .group_by(Subscription.account_id, \"metric_date\")\\\n",
    "    .order_by(Subscription.account_id, \"metric_date\")\n",
    "\n",
    "quants = pd.read_sql(q_quants.statement, engine)\n",
    "print(quants)\n",
    "\n",
    "q_quants_unit = session.query( \n",
    "        Subscription.account_id,\n",
    "        (TmpDaysVec.c.end_date).label(\"metric_date\"),\n",
    "        func.sum(Subscription.quantity).label(\"total_UNIT\"))\\\n",
    "    .join(TmpDaysVec, \n",
    "          and_(Subscription.start_date <= TmpDaysVec.c.end_date, \n",
    "                or_(Subscription.end_date > TmpDaysVec.c.end_date, Subscription.end_date == None)))\\\n",
    "    .group_by(Subscription.account_id, \"metric_date\")\\\n",
    "    .order_by(Subscription.account_id, \"metric_date\")\\\n",
    "    #.filter(Subscription.units == \"UNIT\")\n",
    "\n",
    "quants_unit = pd.read_sql(q_quants_unit.statement, engine)\n",
    "print(quants_unit)\n"
   ]
  },
  {
   "cell_type": "code",
   "execution_count": null,
   "metadata": {},
   "outputs": [],
   "source": []
  }
 ],
 "metadata": {
  "kernelspec": {
   "display_name": "Python 3",
   "language": "python",
   "name": "python3"
  },
  "language_info": {
   "codemirror_mode": {
    "name": "ipython",
    "version": 3
   },
   "file_extension": ".py",
   "mimetype": "text/x-python",
   "name": "python",
   "nbconvert_exporter": "python",
   "pygments_lexer": "ipython3",
   "version": "3.8.5"
  }
 },
 "nbformat": 4,
 "nbformat_minor": 4
}
