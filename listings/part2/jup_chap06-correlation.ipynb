{
 "cells": [
  {
   "cell_type": "markdown",
   "metadata": {},
   "source": [
    "## Access to the DB"
   ]
  },
  {
   "cell_type": "markdown",
   "metadata": {},
   "source": [
    "### SQLite"
   ]
  },
  {
   "cell_type": "code",
   "execution_count": 1,
   "metadata": {},
   "outputs": [],
   "source": [
    "import os\n",
    "import sqlalchemy as sa\n",
    "from sqlalchemy import create_engine, MetaData\n",
    "from sqlalchemy.orm import sessionmaker\n",
    "import pandas as pd\n",
    "\n",
    "# the following example will depend on a sqlite db\n",
    "sqlfile=\"../churn.db\"\n",
    "engine = create_engine(f\"sqlite:///{sqlfile}\")\n",
    "session = sessionmaker(bind=engine)()\n",
    "\n",
    "from churnmodels.schema import Observation,ActiveWeek, ActivePeriod, Account, Metric, MetricName, Subscription, Event, EventType\n"
   ]
  },
  {
   "cell_type": "markdown",
   "metadata": {},
   "source": [
    "### PostGres"
   ]
  },
  {
   "cell_type": "code",
   "execution_count": 1,
   "metadata": {},
   "outputs": [],
   "source": [
    "import os\n",
    "import sqlalchemy as sa\n",
    "from sqlalchemy import create_engine\n",
    "from sqlalchemy.orm import sessionmaker\n",
    "import pandas as pd\n",
    "\n",
    "from churnmodels.schema import get_schema, get_db_uri\n",
    "\n",
    "options = {\"user\": \"postgres\",\n",
    "           \"pass\": \"password\",\n",
    "           \"dbname\": \"churn\",\n",
    "           \"schema\": \"biznet1\"\n",
    "           #\"host\" : \"localhost\" # ...if needed\n",
    "           #\"port\" : \"5432\" # ...if needed\n",
    "           }\n",
    "\n",
    "if True:\n",
    "    # tables is a (dynamical) module containg Wrapper classes for our data base\n",
    "    T=get_schema(options)\n",
    "\n",
    "    # connect to the database\n",
    "    db_uri=get_db_uri(options, \"postgres\") # \"postgres\" names the dialect we are using\n",
    "    engine=create_engine(db_uri)\n",
    "    engine.dialect.has_schema(engine, options[\"schema\"]) \n",
    "    session = sessionmaker(bind=engine)()\n",
    "\n",
    "    # ..how to bring all tables in T to the global namespace\n",
    "    for tbl in T.__dict__.keys():\n",
    "        if not tbl[0].isupper():\n",
    "            continue\n",
    "        exec(f\"{tbl} = T.{tbl}\")\n"
   ]
  },
  {
   "cell_type": "code",
   "execution_count": 2,
   "metadata": {},
   "outputs": [],
   "source": [
    "from datetime import datetime\n",
    "from dateutil.relativedelta import relativedelta\n",
    "from sqlalchemy import func, or_\n",
    "import pandas as pd\n",
    "import sqlparse\n",
    "\n",
    "def days_between(d1, d2):\n",
    "    d1 = datetime.strptime(d1, \"%Y-%m-%d\")\n",
    "    d2 = datetime.strptime(d2, \"%Y-%m-%d\")\n",
    "    return abs((d2 - d1).days)\n",
    "\n",
    "def pretty_sql(q1):\n",
    "    # debug: looking at the SQL pretty printed\n",
    "    text1=str(q1.statement.compile(engine, compile_kwargs={\"literal_binds\": True}))\n",
    "    text2=sqlparse.format(text1, reindent=True, keyword_case='upper')\n",
    "    return text2\n",
    "    #print(text2)\n",
    "\n",
    "#d_start_date = \"2020-01-01\"\n",
    "#d_end_date = \"2020-03-01\"\n",
    "\n",
    "d_start_date = \"2020-03-01\"\n",
    "d_end_date = \"2020-04-01\"\n",
    "\n",
    "metric_period=7\n",
    "d_obs_start = \"2020-02-09\"\n",
    "d_obs_end = \"2020-05-10\"\n"
   ]
  },
  {
   "cell_type": "code",
   "execution_count": 3,
   "metadata": {},
   "outputs": [],
   "source": [
    "from sqlalchemy import func\n",
    "if session.bind.dialect.name == \"sqlite\":\n",
    "    # sqlite problematic when computing days\n",
    "    to_days = lambda some_date: func.julianday(some_date)\n",
    "else:\n",
    "    # dummy func because of sqlite\n",
    "    to_days = lambda some_date: some_date\n"
   ]
  },
  {
   "cell_type": "markdown",
   "metadata": {},
   "source": [
    "## metric pair plot (§6.1)"
   ]
  },
  {
   "cell_type": "code",
   "execution_count": 19,
   "metadata": {},
   "outputs": [],
   "source": [
    "from sqlalchemy import case, func, literal\n",
    "import numpy as np\n",
    "\n",
    "def get_dataset(d_obs_start, d_end_end, metric_period):\n",
    "    fields=[\n",
    "        Metric.account_id,\n",
    "        Observation.observation_date,\n",
    "        Observation.is_churn\n",
    "    ]\n",
    "    targets={}\n",
    "    df_metricnames=pd.read_sql(session.query(MetricName).statement,engine)\n",
    "    for index, row in df_metricnames.iterrows():\n",
    "        newfield=func.sum(case([\n",
    "            (Metric.metric_name_id == row.metric_name_id, Metric.metric_value)\n",
    "            ], else_=0)).label(row.metric_name)\n",
    "        fields.append(newfield)\n",
    "\n",
    "    qr=session.query(*fields)\\\n",
    "        .join(Observation, Metric.account_id==Observation.account_id)\\\n",
    "        .filter(\n",
    "            Metric.metric_time> func.DATE(to_days(Observation.observation_date)-metric_period), \n",
    "            Metric.metric_time<= Observation.observation_date)\\\n",
    "        .group_by(Metric.account_id, Metric.metric_time,\n",
    "                  Observation.observation_date, Observation.is_churn)\\\n",
    "        .order_by(Observation.observation_date, Metric.account_id)\n",
    "\n",
    "    #print(pretty_sql(qr))\n",
    "    ddf=pd.read_sql(qr.statement, engine)\n",
    "    ddf=ddf.set_index(\"account_id\")\n",
    "    return ddf\n",
    "\n",
    "def get_active_customers():\n",
    "    last_metric_time=session.query(func.DATE(func.max(Metric.metric_time))).one()[0] or 0\n",
    "    last_metric_time=str(last_metric_time) # making a string, let the pretty print work for postgres...\n",
    "\n",
    "    fields=[\n",
    "        Metric.account_id,\n",
    "        func.DATE(last_metric_time).label(\"last_metric_time\"),\n",
    "    ]\n",
    "    targets={}\n",
    "    df_metricnames=pd.read_sql(session.query(MetricName).statement,engine)\n",
    "    for index, row in df_metricnames.iterrows():\n",
    "        newfield=func.sum(case([\n",
    "            (Metric.metric_name_id == row.metric_name_id, Metric.metric_value)\n",
    "            ], else_=0)).label(row.metric_name)\n",
    "        fields.append(newfield)\n",
    "\n",
    "    qr=session.query(*fields)\\\n",
    "        .join(Subscription, Metric.account_id==Subscription.account_id)\\\n",
    "        .filter(\n",
    "            func.DATE(Metric.metric_time) == last_metric_time, \n",
    "            func.DATE(Subscription.start_date) <= last_metric_time, \n",
    "            or_(func.DATE(Subscription.end_date) >= last_metric_time, Subscription.end_date==None)\n",
    "            )\\\n",
    "        .group_by(Metric.account_id, \"last_metric_time\")\\\n",
    "        .order_by(Metric.account_id)\n",
    "\n",
    "    #print(pretty_sql(qr))\n",
    "    ddf=pd.read_sql(qr.statement, engine)\n",
    "    return ddf\n",
    "\n",
    "def dataset_stats(churn_data):\n",
    "    if 'is_churn' in churn_data:\n",
    "        churn_data['is_churn']=churn_data['is_churn'].astype(float)\n",
    "\n",
    "    summary = churn_data.describe()\n",
    "    summary = summary.transpose()\n",
    "    #print(churn_data)\n",
    "\n",
    "    summary['skew'] = churn_data.skew()\n",
    "    summary['1%'] = churn_data.quantile(q=0.01)\n",
    "    summary['99%'] = churn_data.quantile(q=0.99)\n",
    "    summary['nonzero'] = churn_data.astype(bool).sum(axis=0) / churn_data.shape[0]\n",
    "\n",
    "    summary = summary[ ['count','nonzero','mean','std','skew','min','1%','25%','50%','75%','99%','max'] ]\n",
    "    summary.columns = summary.columns.str.replace(\"%\", \"pct\")\n",
    "    return summary\n",
    "\n",
    "def metric_scores(churn_data, stats, skew_thresh=4.0):\n",
    "    data_scores = churn_data.copy()\n",
    "    data_scores=data_scores.drop(['is_churn'],axis=1)\n",
    "\n",
    "    stats=stats.drop('is_churn')\n",
    "    skewed_columns=(stats['skew']>skew_thresh) & (stats['min'] >= 0)\n",
    "    skewed_columns=skewed_columns[skewed_columns]\n",
    "\n",
    "    for col in skewed_columns.keys():\n",
    "        data_scores[col]=np.log(1.0+data_scores[col])\n",
    "        stats.at[col,'mean']=data_scores[col].mean()\n",
    "        stats.at[col,'std']=data_scores[col].std()\n",
    "\n",
    "    data_scores=(data_scores-stats['mean'])/stats['std']\n",
    "    data_scores['is_churn']=churn_data['is_churn'].astype('bool')\n",
    "    return data_scores\n",
    "\n",
    "\n",
    "# retrieving the metric pivot directly from the DB (not from a csv)\n",
    "# see SQL in $4.5 dataset\n",
    "dataset=get_dataset(d_obs_start, d_obs_end, metric_period)\n",
    "active_customers=get_active_customers()\n",
    "#print(dataset)\n"
   ]
  },
  {
   "cell_type": "code",
   "execution_count": 29,
   "metadata": {},
   "outputs": [
    {
     "name": "stdout",
     "output_type": "stream",
     "text": [
      "Index(['account_tenure', 'adview_per_month', 'dislike_per_month',\n",
      "       'like_per_month', 'message_per_month', 'newfriend_per_month',\n",
      "       'observation_date', 'post_per_month', 'reply_per_month',\n",
      "       'unfriend_per_month', 'is_churn'],\n",
      "      dtype='object')\n"
     ]
    },
    {
     "data": {
      "text/plain": [
       "<module 'matplotlib.pyplot' from 'C:\\\\bin\\\\Anaconda3\\\\envs\\\\fightchurn\\\\lib\\\\site-packages\\\\matplotlib\\\\pyplot.py'>"
      ]
     },
     "execution_count": 29,
     "metadata": {},
     "output_type": "execute_result"
    },
    {
     "data": {
      "image/png": "[encoded data removed]",
      "text/plain": [
       "<Figure size 432x288 with 1 Axes>"
      ]
     },
     "metadata": {
      "needs_background": "light"
     },
     "output_type": "display_data"
    }
   ],
   "source": [
    "import pandas as pd\n",
    "import matplotlib.pyplot as plt\n",
    "\n",
    "def metric_pair_plot(churn_data, metric1='',metric2=''):\n",
    "    met1_series = churn_data[metric1]\n",
    "    met2_series = churn_data[metric2]\n",
    "\n",
    "    corr = met1_series.corr(met2_series)\n",
    "\n",
    "    plt.scatter(met1_series, met2_series, marker='.')\n",
    "\n",
    "    plt.xlabel(metric1)\n",
    "    plt.ylabel(metric2)\n",
    "    plt.title('Correlation = %.2f' % corr)\n",
    "    plt.tight_layout()\n",
    "    plt.grid()\n",
    "    return plt\n",
    "\n",
    "dataset=get_dataset(d_obs_start, d_obs_end, metric_period)\n",
    "stats=dataset_stats(dataset)\n",
    "scores=metric_scores(dataset, stats)\n",
    "print(scores.columns)\n",
    "\n",
    "#metric_pair_plot(scores, \"adview_per_month\", \"dislike_per_month\")\n",
    "\n",
    "metric_pair_plot(dataset, \"post_per_month\", \"like_per_month\")\n"
   ]
  },
  {
   "cell_type": "code",
   "execution_count": 30,
   "metadata": {},
   "outputs": [
    {
     "data": {
      "text/plain": [
       "<module 'matplotlib.pyplot' from 'C:\\\\bin\\\\Anaconda3\\\\envs\\\\fightchurn\\\\lib\\\\site-packages\\\\matplotlib\\\\pyplot.py'>"
      ]
     },
     "execution_count": 30,
     "metadata": {},
     "output_type": "execute_result"
    },
    {
     "data": {
      "image/png": "[encoded data removed]",
      "text/plain": [
       "<Figure size 432x288 with 1 Axes>"
      ]
     },
     "metadata": {
      "needs_background": "light"
     },
     "output_type": "display_data"
    }
   ],
   "source": [
    "metric_pair_plot(scores, \"post_per_month\", \"like_per_month\")"
   ]
  },
  {
   "cell_type": "markdown",
   "metadata": {},
   "source": [
    "## dataset correlation (§6.2)"
   ]
  },
  {
   "cell_type": "code",
   "execution_count": 31,
   "metadata": {},
   "outputs": [
    {
     "name": "stdout",
     "output_type": "stream",
     "text": [
      "                     account_tenure  adview_per_month  dislike_per_month  \\\n",
      "account_tenure             1.000000          0.041987           0.057664   \n",
      "adview_per_month           0.041987          1.000000           0.304183   \n",
      "dislike_per_month          0.057664          0.304183           1.000000   \n",
      "is_churn                  -0.050813         -0.040692          -0.051904   \n",
      "like_per_month             0.036772          0.523531           0.323022   \n",
      "message_per_month          0.028683          0.043553           0.071427   \n",
      "newfriend_per_month        0.081018          0.529937           0.354974   \n",
      "post_per_month             0.044558          0.526942           0.300071   \n",
      "reply_per_month            0.030852          0.035779           0.064865   \n",
      "unfriend_per_month         0.064968          0.012885           0.011033   \n",
      "\n",
      "                     is_churn  like_per_month  message_per_month  \\\n",
      "account_tenure      -0.050813        0.036772           0.028683   \n",
      "adview_per_month    -0.040692        0.523531           0.043553   \n",
      "dislike_per_month   -0.051904        0.323022           0.071427   \n",
      "is_churn             1.000000       -0.053232          -0.045980   \n",
      "like_per_month      -0.053232        1.000000           0.037440   \n",
      "message_per_month   -0.045980        0.037440           1.000000   \n",
      "newfriend_per_month -0.095275        0.540606           0.054040   \n",
      "post_per_month      -0.040966        0.471502           0.035069   \n",
      "reply_per_month     -0.049126        0.025991           0.952386   \n",
      "unfriend_per_month   0.019074        0.011991          -0.015294   \n",
      "\n",
      "                     newfriend_per_month  post_per_month  reply_per_month  \\\n",
      "account_tenure                  0.081018        0.044558         0.030852   \n",
      "adview_per_month                0.529937        0.526942         0.035779   \n",
      "dislike_per_month               0.354974        0.300071         0.064865   \n",
      "is_churn                       -0.095275       -0.040966        -0.049126   \n",
      "like_per_month                  0.540606        0.471502         0.025991   \n",
      "message_per_month               0.054040        0.035069         0.952386   \n",
      "newfriend_per_month             1.000000        0.475838         0.044651   \n",
      "post_per_month                  0.475838        1.000000         0.026960   \n",
      "reply_per_month                 0.044651        0.026960         1.000000   \n",
      "unfriend_per_month              0.009756        0.011917        -0.017870   \n",
      "\n",
      "                     unfriend_per_month  \n",
      "account_tenure                 0.064968  \n",
      "adview_per_month               0.012885  \n",
      "dislike_per_month              0.011033  \n",
      "is_churn                       0.019074  \n",
      "like_per_month                 0.011991  \n",
      "message_per_month             -0.015294  \n",
      "newfriend_per_month            0.009756  \n",
      "post_per_month                 0.011917  \n",
      "reply_per_month               -0.017870  \n",
      "unfriend_per_month             1.000000  \n"
     ]
    }
   ],
   "source": [
    "def dataset_correlation_matrix(churn_data):\n",
    "    churn_data = churn_data.reindex(sorted(churn_data.columns), axis=1)\n",
    "    corr_df = churn_data.corr()\n",
    "    return corr_df\n",
    "\n",
    "corr=dataset_correlation_matrix(dataset)\n",
    "print(corr)\n"
   ]
  },
  {
   "cell_type": "code",
   "execution_count": 33,
   "metadata": {},
   "outputs": [
    {
     "name": "stdout",
     "output_type": "stream",
     "text": [
      "                     account_tenure  adview_per_month  dislike_per_month  \\\n",
      "account_tenure             1.000000          0.074926           0.084711   \n",
      "adview_per_month           0.074926          1.000000           0.453882   \n",
      "dislike_per_month          0.084711          0.453882           1.000000   \n",
      "is_churn                  -0.050813         -0.080736          -0.074480   \n",
      "like_per_month             0.093018          0.673893           0.453086   \n",
      "message_per_month          0.083992          0.110510           0.140913   \n",
      "newfriend_per_month        0.081018          0.530649           0.363833   \n",
      "post_per_month             0.096382          0.663963           0.454367   \n",
      "reply_per_month            0.066047          0.059097           0.101006   \n",
      "unfriend_per_month         0.064968          0.012395           0.012715   \n",
      "\n",
      "                     is_churn  like_per_month  message_per_month  \\\n",
      "account_tenure      -0.050813        0.093018           0.083992   \n",
      "adview_per_month    -0.080736        0.673893           0.110510   \n",
      "dislike_per_month   -0.074480        0.453086           0.140913   \n",
      "is_churn             1.000000       -0.145837          -0.146350   \n",
      "like_per_month      -0.145837        1.000000           0.086975   \n",
      "message_per_month   -0.146350        0.086975           1.000000   \n",
      "newfriend_per_month -0.095275        0.536713           0.068022   \n",
      "post_per_month      -0.141793        0.660914           0.085192   \n",
      "reply_per_month     -0.125896        0.042539           0.874723   \n",
      "unfriend_per_month   0.019074        0.020254           0.008878   \n",
      "\n",
      "                     newfriend_per_month  post_per_month  reply_per_month  \\\n",
      "account_tenure                  0.081018        0.096382         0.066047   \n",
      "adview_per_month                0.530649        0.663963         0.059097   \n",
      "dislike_per_month               0.363833        0.454367         0.101006   \n",
      "is_churn                       -0.095275       -0.141793        -0.125896   \n",
      "like_per_month                  0.536713        0.660914         0.042539   \n",
      "message_per_month               0.068022        0.085192         0.874723   \n",
      "newfriend_per_month             1.000000        0.533430         0.023599   \n",
      "post_per_month                  0.533430        1.000000         0.029858   \n",
      "reply_per_month                 0.023599        0.029858         1.000000   \n",
      "unfriend_per_month              0.009756        0.019455         0.000055   \n",
      "\n",
      "                     unfriend_per_month  \n",
      "account_tenure                 0.064968  \n",
      "adview_per_month               0.012395  \n",
      "dislike_per_month              0.012715  \n",
      "is_churn                       0.019074  \n",
      "like_per_month                 0.020254  \n",
      "message_per_month              0.008878  \n",
      "newfriend_per_month            0.009756  \n",
      "post_per_month                 0.019455  \n",
      "reply_per_month                0.000055  \n",
      "unfriend_per_month             1.000000  \n"
     ]
    }
   ],
   "source": [
    "corr_scores_df=dataset_correlation_matrix(scores)\n",
    "print(corr)\n"
   ]
  },
  {
   "cell_type": "markdown",
   "metadata": {},
   "source": [
    "## Apply metric groups (§6.3)"
   ]
  },
  {
   "cell_type": "code",
   "execution_count": 37,
   "metadata": {},
   "outputs": [
    {
     "name": "stdout",
     "output_type": "stream",
     "text": [
      "           account_tenure adview_per_month dislike_per_month  is_churn  \\\n",
      "account_id                                                               \n",
      "3               -0.691229         -1.66893          -1.96065     False   \n",
      "27              -0.289346           2.2104           1.51512     False   \n",
      "145             -0.330334           1.2155         -0.493824     False   \n",
      "146            -0.0627163          2.49287           1.28426     False   \n",
      "151             -0.143381        -0.243577          0.497302     False   \n",
      "...                   ...              ...               ...       ...   \n",
      "11930            -2.53727         -2.99121          -2.34057     False   \n",
      "11944            -2.98068         -3.91413          -2.53546      True   \n",
      "11996            -2.32131        -0.161065          0.118065     False   \n",
      "11997            -2.35997        -0.449508         -0.978568     False   \n",
      "12075            -2.70571         -5.04129          -4.55941     False   \n",
      "\n",
      "           like_per_month message_per_month newfriend_per_month  \\\n",
      "account_id                                                        \n",
      "3                -1.85413          -1.56151            -1.54269   \n",
      "27                2.10207          -2.52837             1.56107   \n",
      "145               1.22548          -2.11994             1.06439   \n",
      "146                2.2572          0.817158             1.46721   \n",
      "151             -0.288154           3.14561           -0.446436   \n",
      "...                   ...               ...                 ...   \n",
      "11930             -3.4186        -0.0440039            -2.67808   \n",
      "11944            -4.39782          -3.88037            -3.13106   \n",
      "11996            0.160459          -2.58305           0.0493725   \n",
      "11997           -0.615324          -1.27951           -0.912357   \n",
      "12075            -5.03076         0.0383323            -4.15968   \n",
      "\n",
      "           post_per_month reply_per_month unfriend_per_month  \n",
      "account_id                                                    \n",
      "3                -1.67339        -1.40817           -1.00762  \n",
      "27                2.29907        -2.69792          -0.919359  \n",
      "145                1.5124         -2.1193            0.11386  \n",
      "146               2.33964        0.678262          -0.908442  \n",
      "151             -0.231399         3.20061          -0.953214  \n",
      "...                   ...             ...                ...  \n",
      "11930            -2.99749        0.195465         -0.0949537  \n",
      "11944            -3.93337        -3.56722           -1.16315  \n",
      "11996            0.195392        -2.63777         -0.0218662  \n",
      "11997           -0.640378        -1.21382         -0.0415531  \n",
      "12075            -5.12433        0.440374           0.920157  \n",
      "\n",
      "[12642 rows x 10 columns]\n"
     ]
    }
   ],
   "source": [
    "import numpy as np\n",
    "\n",
    "import pandas as pd\n",
    "import numpy as np\n",
    "import os\n",
    "\n",
    "def apply_metric_groups(score_data, load_mat_df):\n",
    "    #data_2group = score_data.drop('is_churn',axis=1)\n",
    "    data_2group = score_data\n",
    "    load_mat_ndarray = load_mat_df.to_numpy()\n",
    "\n",
    "    # Make sure the data is in the same column order as the rows of the loading matrix\n",
    "    ndarray_2group = data_2group[load_mat_df.index.values].to_numpy()\n",
    "    grouped_ndarray = np.matmul(ndarray_2group, load_mat_ndarray)\n",
    "\n",
    "    churn_data_grouped = pd.DataFrame(grouped_ndarray,columns=load_mat_df.columns.values, index=score_data.index)\n",
    "\n",
    "    churn_data_grouped['is_churn'] = score_data['is_churn']\n",
    "    return churn_data_grouped\n",
    "\n",
    "\n",
    "churn_data_grouped=apply_metric_groups(scores, corr_scores_df)\n",
    "print(churn_data_grouped)\n"
   ]
  },
  {
   "cell_type": "markdown",
   "metadata": {},
   "source": [
    "## Find metric groups (§6.4)"
   ]
  },
  {
   "cell_type": "code",
   "execution_count": null,
   "metadata": {},
   "outputs": [],
   "source": []
  },
  {
   "cell_type": "markdown",
   "metadata": {},
   "source": [
    "## Ordered correlation (§6.5)"
   ]
  },
  {
   "cell_type": "code",
   "execution_count": null,
   "metadata": {},
   "outputs": [],
   "source": []
  }
 ],
 "metadata": {
  "kernelspec": {
   "display_name": "Python 3",
   "language": "python",
   "name": "python3"
  },
  "language_info": {
   "codemirror_mode": {
    "name": "ipython",
    "version": 3
   },
   "file_extension": ".py",
   "mimetype": "text/x-python",
   "name": "python",
   "nbconvert_exporter": "python",
   "pygments_lexer": "ipython3",
   "version": "3.8.5"
  }
 },
 "nbformat": 4,
 "nbformat_minor": 4
}
