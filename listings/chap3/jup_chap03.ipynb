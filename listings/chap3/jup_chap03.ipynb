{
 "cells": [
  {
   "cell_type": "markdown",
   "metadata": {},
   "source": [
    "## Access to the DB"
   ]
  },
  {
   "cell_type": "markdown",
   "metadata": {},
   "source": [
    "### SQLite"
   ]
  },
  {
   "cell_type": "code",
   "execution_count": 1,
   "metadata": {},
   "outputs": [],
   "source": [
    "import os\n",
    "from sqlalchemy import create_engine\n",
    "from sqlalchemy.orm import sessionmaker\n",
    "\n",
    "from churnmodels.schema import Subscription, Event, Account\n",
    "\n",
    "# the following example will depend on a sqlite db\n",
    "sqlfile=\"../churn.db\"\n",
    "engine = create_engine(f\"sqlite:///{sqlfile}\")\n",
    "session = sessionmaker(bind=engine)()"
   ]
  },
  {
   "cell_type": "markdown",
   "metadata": {},
   "source": [
    "### PostGres"
   ]
  },
  {
   "cell_type": "code",
   "execution_count": 5,
   "metadata": {},
   "outputs": [],
   "source": [
    "import os\n",
    "from sqlalchemy import create_engine\n",
    "from sqlalchemy.orm import sessionmaker\n",
    "import pandas as pd\n",
    "\n",
    "from churnmodels.schema import get_schema, get_db_uri\n",
    "\n",
    "options = {\"user\": \"postgres\",\n",
    "           \"pass\": \"password\",\n",
    "           \"dbname\": \"churn\",\n",
    "           \"schema\": \"biznet1\"\n",
    "           #\"host\" : \"localhost\" # ...if needed\n",
    "           #\"port\" : \"5432\" # ...if needed\n",
    "           }\n",
    "if False:\n",
    "    # tables is a (dynamical) module containg Wrapper classes for our data base\n",
    "    tables=get_schema(options)\n",
    "\n",
    "    # connect to the database\n",
    "    db_uri=get_db_uri(options, \"postgres\") # \"postgres\" names the dialect we are using\n",
    "    engine=create_engine(db_uri)\n",
    "    session = sessionmaker(bind=engine)()\n"
   ]
  },
  {
   "cell_type": "code",
   "execution_count": 2,
   "metadata": {},
   "outputs": [],
   "source": [
    "from datetime import datetime\n",
    "from dateutil.relativedelta import relativedelta\n",
    "\n",
    "def days_between(d1, d2):\n",
    "    d1 = datetime.strptime(d1, \"%Y-%m-%d\")\n",
    "    d2 = datetime.strptime(d2, \"%Y-%m-%d\")\n",
    "    return abs((d2 - d1).days)\n",
    "\n"
   ]
  },
  {
   "cell_type": "code",
   "execution_count": 3,
   "metadata": {},
   "outputs": [],
   "source": [
    "from sqlalchemy import func, or_\n",
    "from churnmodels.schema import Account, Subscription, Event, EventType\n",
    "import pandas as pd\n",
    "\n",
    "d_start_date = \"2020-01-01\"\n",
    "d_end_date = \"2020-03-01\"\n",
    "\n",
    "d_start_date = \"2020-03-01\"\n",
    "d_end_date = \"2020-04-01\""
   ]
  },
  {
   "cell_type": "markdown",
   "metadata": {},
   "source": [
    "## event_count (§3.1)"
   ]
  },
  {
   "cell_type": "code",
   "execution_count": 4,
   "metadata": {},
   "outputs": [
    {
     "name": "stdout",
     "output_type": "stream",
     "text": [
      "event_type_name  adview  dislike   like  message  newfriend  post  reply  \\\n",
      "account_id                                                                 \n",
      "1                  14.0      7.0    8.0     18.0        2.0  17.0   15.0   \n",
      "2                  16.0     10.0   60.0      1.0        2.0  38.0    NaN   \n",
      "4                  21.0      NaN   62.0     33.0        8.0  27.0   14.0   \n",
      "5                   3.0      6.0   21.0     38.0        1.0  44.0   26.0   \n",
      "6                  21.0      1.0    9.0    165.0        NaN   9.0   22.0   \n",
      "...                 ...      ...    ...      ...        ...   ...    ...   \n",
      "12096              26.0      9.0   60.0      3.0        5.0  18.0    2.0   \n",
      "12097              11.0      8.0  107.0     67.0        1.0  23.0   15.0   \n",
      "12098              58.0     53.0   50.0    108.0        2.0   7.0   19.0   \n",
      "12099               1.0     47.0   64.0      NaN       14.0  17.0    NaN   \n",
      "12100              10.0      4.0    4.0    146.0        NaN   4.0   68.0   \n",
      "\n",
      "event_type_name  unfriend  \n",
      "account_id                 \n",
      "1                     NaN  \n",
      "2                     1.0  \n",
      "4                     NaN  \n",
      "5                     NaN  \n",
      "6                     1.0  \n",
      "...                   ...  \n",
      "12096                 NaN  \n",
      "12097                 NaN  \n",
      "12098                 NaN  \n",
      "12099                 NaN  \n",
      "12100                 NaN  \n",
      "\n",
      "[11427 rows x 8 columns]\n"
     ]
    }
   ],
   "source": [
    "d_the_date = \"2020-04-01\"\n",
    "the_date = datetime.strptime(d_the_date, \"%Y-%m-%d\")\n",
    "inactivity_interval=relativedelta(months=+1)\n",
    "the_date_int = the_date-inactivity_interval\n",
    "\n",
    "q_event_count = session.query(Event.account_id, EventType.event_type_name, func.count(Event.account_id).label(\"n_event2measure_permonth\"))\\\n",
    "    .filter(Event.event_time > the_date_int, Event.event_time <= the_date)\\\n",
    "    .join(EventType, EventType.event_type_id==Event.event_type_id)\\\n",
    "    .group_by(Event.account_id, EventType.event_type_name)\n",
    "\n",
    "event_count = pd.read_sql(q_event_count.statement, engine) #.set_index(\"account_id\")\n",
    "#print(event_count)\n",
    "\n",
    "# we do a pivot with pandas\n",
    "df_pivot = event_count.pivot(index=\"account_id\", columns=\"event_type_name\", values=\"n_event2measure_permonth\")\n",
    "print(df_pivot)"
   ]
  },
  {
   "cell_type": "markdown",
   "metadata": {},
   "source": [
    "## multi date count (§3.2)"
   ]
  },
  {
   "cell_type": "code",
   "execution_count": 30,
   "metadata": {},
   "outputs": [
    {
     "name": "stdout",
     "output_type": "stream",
     "text": [
      "  start_date   end_date\n",
      "0 2020-02-02 2020-03-01\n",
      "1 2020-02-09 2020-03-08\n",
      "2 2020-02-16 2020-03-15\n",
      "3 2020-02-23 2020-03-22\n",
      "4 2020-03-01 2020-03-29\n"
     ]
    }
   ],
   "source": [
    "# alternative to the interval functionality in postgres is to create a tempory table that can be joined to\n",
    "from datetime import timedelta\n",
    "def make_day_interval(d_start_date, d_end_date, periods, freq_str):\n",
    "    # we let pandas do find the starting date which is\n",
    "    # new-start-date = start-date - (periods * frequency)\n",
    "    seq=pd.date_range(d_start_date, periods=periods+1, freq=f\"-{freq_str}\")\n",
    "    new_start_date=seq[-1]\n",
    "    end_dates=pd.date_range(d_start_date, d_end_date, freq=freq_str)\n",
    "    start_dates=pd.date_range(new_start_date, periods=len(end_dates), freq=freq_str)\n",
    "    df=pd.DataFrame({\"start_date\":start_dates,\"end_date\":end_dates})\n",
    "    df.index.rename(\"id\")\n",
    "    return df \n",
    "\n",
    "#example\n",
    "res=make_day_interval(d_start_date, d_end_date, 4, \"7D\")\n",
    "print(res)\n"
   ]
  },
  {
   "cell_type": "code",
   "execution_count": 32,
   "metadata": {},
   "outputs": [
    {
     "name": "stdout",
     "output_type": "stream",
     "text": [
      "   id start_date   end_date\n",
      "0   0 2020-02-02 2020-03-01\n",
      "1   1 2020-02-09 2020-03-08\n",
      "2   2 2020-02-16 2020-03-15\n",
      "3   3 2020-02-23 2020-03-22\n",
      "4   4 2020-03-01 2020-03-29\n"
     ]
    }
   ],
   "source": [
    "# making the Date Intervals available in the data base\n",
    "# example\n",
    "freq=\"7D\" # week has 7 days\n",
    "periods=4 # 4 weeks back in time\n",
    "days_df=make_day_interval(d_start_date, d_end_date, periods, freq)\n",
    "\n",
    "# storing a temporary table to the data base with pandas\n",
    "days_df.to_sql(\"tmp_days_vec\",con=engine, if_exists='replace',  index_label='id')\n",
    "\n",
    "# how to get a proper Table class for the temporary Table\n",
    "from sqlalchemy.ext.declarative import declarative_base\n",
    "from sqlalchemy import Table, MetaData\n",
    "TmpDaysVec = Table('tmp_days_vec', MetaData(), autoload=True, autoload_with=engine)\n",
    "\n",
    "# example\n",
    "qddf=session.query(TmpDaysVec)\n",
    "ddf=pd.read_sql(qddf.statement, engine)\n",
    "print(ddf)"
   ]
  },
  {
   "cell_type": "code",
   "execution_count": 91,
   "metadata": {},
   "outputs": [
    {
     "name": "stdout",
     "output_type": "stream",
     "text": [
      "        account_id  event_type_id event_type_name  metric_value metric_time\n",
      "0                1              1            post            16  2020-03-01\n",
      "1                1              1            post            18  2020-03-08\n",
      "2                1              1            post            13  2020-03-15\n",
      "3                1              1            post            15  2020-03-22\n",
      "4                1              1            post            13  2020-03-29\n",
      "...            ...            ...             ...           ...         ...\n",
      "380604       12100              5         dislike             4  2020-03-29\n",
      "380605       12100              7         message            60  2020-03-22\n",
      "380606       12100              7         message           124  2020-03-29\n",
      "380607       12100              8           reply            19  2020-03-22\n",
      "380608       12100              8           reply            56  2020-03-29\n",
      "\n",
      "[380609 rows x 5 columns]\n"
     ]
    }
   ],
   "source": [
    "# transform to sqlalchemy\n",
    "# multi_date_count (listing 3.2)\n",
    "\"\"\"\n",
    "select account_id, metric_date, count(*) as n_%event2measure\n",
    "from event e inner join date_vals d\n",
    "    on e.event_time < metric_date\n",
    "    and e.event_time >= metric_date - interval '28 day'\n",
    "inner join event_type t on t.event_type_id=e.event_type_id\n",
    "where t.event_type_name='%event2measure'\n",
    "group by account_id, metric_date\n",
    "order by account_id, metric_date;\n",
    "\"\"\"\n",
    "\n",
    "# we excercise §3.5 here as well (listing 3.5)\n",
    "\"\"\"\n",
    "select account_id, metric_date::date, sum(%field2sum) as sum_%event2measure_%field2sum\n",
    "from event e inner join date_vals d    \n",
    "\ton e.event_time < metric_date \n",
    "\tand e.event_time >= metric_date - interval '28 day'\n",
    "inner join event_type t on t.event_type_id=e.event_type_id\n",
    "where t.event_type_name='%event2measure'\n",
    "group by account_id, metric_date\n",
    "order by account_id, metric_date;\n",
    "\"\"\"\n",
    "from sqlalchemy import and_\n",
    "from churnmodels.schema import Event, EventType\n",
    "\n",
    "q_multi_date_count=session.query(Event.account_id, EventType.event_type_id, EventType.event_type_name,\n",
    "                 func.count(Event.event_time).label(\"metric_value\"), \n",
    "                 (TmpDaysVec.c.end_date).label(\"metric_time\"),\n",
    "                 #TmpDaysVec.c.id, #TmpDaysVec.c.start_date, TmpDaysVec.c.end_date\n",
    "                )\\\n",
    "    .join(TmpDaysVec, and_(Event.event_time>=TmpDaysVec.c.start_date, Event.event_time<TmpDaysVec.c.end_date))\\\n",
    "    .join(EventType, Event.event_type_id==EventType.event_type_id )\\\n",
    "    .group_by(Event.account_id, EventType.event_type_id, TmpDaysVec.c.id)\\\n",
    "    .order_by(Event.account_id, EventType.event_type_id, TmpDaysVec.c.id) #\\\n",
    "    #.filter(Event.account_id==2, Event.event_type_id==5)\n",
    "\n",
    "multi_date_count=pd.read_sql(q_multi_date_count.statement, engine)\n",
    "print(multi_date_count)\n",
    "\n"
   ]
  },
  {
   "cell_type": "markdown",
   "metadata": {},
   "source": [
    "## metric insert (§3.3)"
   ]
  },
  {
   "cell_type": "code",
   "execution_count": 98,
   "metadata": {},
   "outputs": [],
   "source": [
    "\"\"\"\n",
    "insert into metric (account_id,metric_time,metric_name_id,metric_value)\n",
    "select account_id, metric_date, %new_metric_id,  count(*) AS metric_value\n",
    "from event e inner join date_vals d\n",
    "on e.event_time < metric_date \n",
    "and e.event_time >= metric_date - interval '28 day'\n",
    "inner join event_type t on t.event_type_id=e.event_type_id\n",
    "where t.event_type_name='%event2measure'\n",
    "group by account_id, metric_date\n",
    "\"\"\"\n",
    "from churnmodels.schema import Event, EventType, Metric\n",
    "from sqlalchemy.sql.expression import literal_column\n",
    "from sqlalchemy import select, Integer\n",
    "\n",
    "# the id of the metric to be calculated\n",
    "#new_metric_id=1\n",
    "\n",
    "# delete all old values \"new_metric_id\"\n",
    "old_metrics=session.query(Metric)#.filter(Metric.metric_name_id==new_metric_id)\n",
    "old_metrics.delete()\n",
    "session.commit()\n",
    "\n",
    "# reuse the query from section from previous section\n",
    "subq=q_multi_date_count.subquery()\n",
    "#const_metric_name_id=literal_column(f\"{new_metric_id}\", Integer).label(\"metric_name_id\")\n",
    "const_metric_name_id=subq.c.event_type_id.label(\"metric_name_id\")\n",
    "select_stm=select([subq.c.account_id, subq.c.metric_time, const_metric_name_id, subq.c.metric_value])\n",
    "columns=['account_id', 'metric_time', 'metric_name_id', 'metric_value']\n",
    "session.execute(Metric.__table__.insert().from_select(columns, select_stm))\n",
    "session.commit()\n",
    "\n"
   ]
  },
  {
   "cell_type": "markdown",
   "metadata": {},
   "source": [
    "## adding new metric (§3.4)"
   ]
  },
  {
   "cell_type": "code",
   "execution_count": 110,
   "metadata": {},
   "outputs": [],
   "source": [
    "# this step should be exercised before §3.3 to have a new metric id\n",
    "\"\"\"\n",
    "insert into metric_name values (%new_metric_id,'%new_metric_name')\n",
    "\"\"\"\n",
    "from sqlalchemy import func\n",
    "from churnmodels.schema import MetricName\n",
    "# finding the last index\n",
    "#max_id=session.query(func.max(MetricName.metric_name_id)).one()[0] or 0\n",
    "#max_id+=1\n",
    "\n",
    "# we simply delete old metrics\n",
    "old_metrics=session.query(MetricName)#.filter(Metric.metric_name_id==new_metric_id)\n",
    "old_metrics.delete()\n",
    "session.commit()\n",
    "\n",
    "# ... and add the new ones\n",
    "max_id=session.query(func.max(MetricName.metric_name_id)).one()[0] or 0\n",
    "new_metrics=session.query(EventType).order_by(EventType.event_type_id).all()\n",
    "for row in new_metrics:\n",
    "    max_id+=1\n",
    "    session.execute(MetricName.__table__.insert(), {\"metric_name\": row.event_type_name, \"metric_name_id\":max_id})\n",
    "session.commit()\n",
    "\n",
    "\n",
    "    \n",
    "    "
   ]
  },
  {
   "cell_type": "markdown",
   "metadata": {},
   "source": [
    "## summing up the metric (§3.5)"
   ]
  },
  {
   "cell_type": "code",
   "execution_count": 96,
   "metadata": {},
   "outputs": [],
   "source": [
    "# see §3.2\n",
    "\"\"\"\n",
    "select account_id, metric_date::date, sum(%field2sum) as sum_%event2measure_%field2sum\n",
    "from event e inner join date_vals d    \n",
    "\ton e.event_time < metric_date \n",
    "\tand e.event_time >= metric_date - interval '28 day'\n",
    "inner join event_type t on t.event_type_id=e.event_type_id\n",
    "where t.event_type_name='%event2measure'\n",
    "group by account_id, metric_date\n",
    "order by account_id, metric_date;\n",
    "\"\"\"\n",
    "pass\n",
    "\n"
   ]
  },
  {
   "cell_type": "markdown",
   "metadata": {},
   "source": [
    "## metric staticstics over time (§3.6)"
   ]
  },
  {
   "cell_type": "code",
   "execution_count": 150,
   "metadata": {},
   "outputs": [
    {
     "name": "stdout",
     "output_type": "stream",
     "text": [
      "    metric_name_id metric_name  calc_date     n_calc        avg  min      max\n",
      "0                1        post 2020-03-01   410271.0  38.921450  1.0   2013.0\n",
      "1                1        post 2020-03-08   422822.0  39.656912  1.0   3575.0\n",
      "2                1        post 2020-03-15   430208.0  39.900575  1.0   5061.0\n",
      "3                1        post 2020-03-22   435477.0  39.977692  1.0   6072.0\n",
      "4                1        post 2020-03-29   443608.0  40.475182  1.0   6136.0\n",
      "5                2   newfriend 2020-03-01    67105.0   7.114610  1.0    125.0\n",
      "6                2   newfriend 2020-03-08    68437.0   7.199348  1.0    123.0\n",
      "7                2   newfriend 2020-03-15    69675.0   7.198574  1.0    114.0\n",
      "8                2   newfriend 2020-03-22    70917.0   7.259392  1.0    114.0\n",
      "9                2   newfriend 2020-03-29    71811.0   7.271264  1.0    122.0\n",
      "10               3        like 2020-03-01   948848.0  88.264930  1.0   9969.0\n",
      "11               3        like 2020-03-08   974164.0  89.784700  1.0  10089.0\n",
      "12               3        like 2020-03-15   989204.0  90.222911  1.0  10069.0\n",
      "13               3        like 2020-03-22   995110.0  89.908746  1.0   9960.0\n",
      "14               3        like 2020-03-29  1015202.0  91.131239  1.0   9979.0\n",
      "15               4      adview 2020-03-01   395267.0  37.278789  1.0   1040.0\n",
      "16               4      adview 2020-03-08   404494.0  37.824388  1.0   1039.0\n",
      "17               4      adview 2020-03-15   409437.0  37.949486  1.0   1058.0\n",
      "18               4      adview 2020-03-22   411397.0  37.753235  1.0   1043.0\n",
      "19               4      adview 2020-03-29   419743.0  38.266296  1.0   1081.0\n",
      "20               5     dislike 2020-03-01   158766.0  15.550049  1.0    426.0\n",
      "21               5     dislike 2020-03-08   162137.0  15.749102  1.0    394.0\n",
      "22               5     dislike 2020-03-15   164347.0  15.833044  1.0    406.0\n",
      "23               5     dislike 2020-03-22   165582.0  15.786252  1.0    409.0\n",
      "24               5     dislike 2020-03-29   168371.0  15.902059  1.0    420.0\n",
      "25               6    unfriend 2020-03-01     3142.0   1.155997  1.0      5.0\n",
      "26               6    unfriend 2020-03-08     3293.0   1.171886  1.0      5.0\n",
      "27               6    unfriend 2020-03-15     3402.0   1.163077  1.0      4.0\n",
      "28               6    unfriend 2020-03-22     3368.0   1.158981  1.0      4.0\n",
      "29               6    unfriend 2020-03-29     3438.0   1.165819  1.0      4.0\n",
      "30               7     message 2020-03-01   623525.0  58.945453  1.0   9891.0\n",
      "31               7     message 2020-03-08   640113.0  60.003093  1.0   9986.0\n",
      "32               7     message 2020-03-15   649639.0  60.174046  1.0  10029.0\n",
      "33               7     message 2020-03-22   654075.0  59.902464  1.0   9797.0\n",
      "34               7     message 2020-03-29   667865.0  60.797906  1.0   9942.0\n",
      "35               8       reply 2020-03-01   230384.0  23.777892  1.0   3157.0\n",
      "36               8       reply 2020-03-08   236209.0  24.102959  1.0   3180.0\n",
      "37               8       reply 2020-03-15   239759.0  24.196084  1.0   3216.0\n",
      "38               8       reply 2020-03-22   242482.0  24.153999  1.0   3172.0\n",
      "39               8       reply 2020-03-29   247337.0  24.411469  1.0   3256.0\n"
     ]
    }
   ],
   "source": [
    "\"\"\"\n",
    "from generate_series('%from_yyyy-mm-dd', '%to_yyyy-mm-dd', '7 day'::interval) i\n",
    "), the_metric as (  \n",
    "\tselect * from metric m\n",
    "\tinner join metric_name n on m.metric_name_id = n.metric_name_id\n",
    "\twhere n.metric_name = '%metric2measure'\n",
    ")\n",
    "select calc_date,  avg(metric_value), count(the_metric.*) as n_calc,\n",
    "min(metric_value), max(metric_value)    \n",
    "from date_range left outer join the_metric on calc_date=metric_time     \n",
    "group by calc_date     \n",
    "order by calc_date    \n",
    "\"\"\"\n",
    "\n",
    "\n",
    "q_metric_stats_over_time_sub=session.query(Metric.metric_name_id, MetricName.metric_name, Metric.metric_time,\\\n",
    "                func.avg(Metric.metric_value).label(\"avg\"),\\\n",
    "                func.sum(Metric.metric_value).label(\"n_calc\"),\n",
    "                func.min(Metric.metric_value).label(\"min\"),\\\n",
    "                func.max(Metric.metric_value).label(\"max\"))\\\n",
    "    .join(MetricName, Metric.metric_name_id==MetricName.metric_name_id)\\\n",
    "    .group_by(Metric.metric_name_id, Metric.metric_time)\\\n",
    "    .order_by(Metric.metric_name_id, Metric.metric_time)\n",
    "subq=q_metric_stats_over_time_sub.subquery()\n",
    "q_metric_stats_over_time=session.query(subq.c.metric_name_id, \n",
    "                subq.c.metric_name, subq.c.metric_time.label(\"calc_date\"), \n",
    "                subq.c.n_calc, subq.c.avg, subq.c.min, subq.c.max)\n",
    "\n",
    "metric_stats_over_time=pd.read_sql(q_metric_stats_over_time.statement, engine)\n",
    "print(metric_stats_over_time)\n"
   ]
  },
  {
   "cell_type": "markdown",
   "metadata": {},
   "source": [
    "## plotting the statics (§3.7)"
   ]
  },
  {
   "cell_type": "code",
   "execution_count": 159,
   "metadata": {},
   "outputs": [
    {
     "name": "stdout",
     "output_type": "stream",
     "text": [
      "['dislike', 'newfriend', 'message', 'reply', 'post', 'unfriend', 'like', 'adview']\n"
     ]
    },
    {
     "data": {
      "image/png": "[encoded data removed]",
      "text/plain": [
       "<Figure size 432x432 with 4 Axes>"
      ]
     },
     "metadata": {
      "needs_background": "light"
     },
     "output_type": "display_data"
    }
   ],
   "source": [
    "import pandas as pd\n",
    "import matplotlib.pyplot as plt\n",
    "from math import ceil\n",
    "\n",
    "def metric_qa_plot(qa_data_df, metric_name,**kwargs):\n",
    "    #metric_data_path = qa_data_path + '_' + metric_name + '.csv'\n",
    "    #qa_data_df=pd.read_csv(metric_data_path)\n",
    "    plt.figure(figsize=(6, 6))\n",
    "    qa_subplot(qa_data_df,'max',1,None)\n",
    "    plt.title(metric_name)\n",
    "    qa_subplot(qa_data_df,'avg',2,'--')\n",
    "    qa_subplot(qa_data_df,'min',3,'-.')\n",
    "    qa_subplot(qa_data_df,'n_calc',4,':')\n",
    "    plt.gca().figure.autofmt_xdate()\n",
    "    return plt\n",
    "\n",
    "def qa_subplot(qa_data_df, field, number, linestyle):\n",
    "    plt.subplot(4, 1, number)\n",
    "    plt.plot('calc_date', field, data=qa_data_df, marker='', linestyle=linestyle, color='black', linewidth=2, label=field)\n",
    "    plt.ylim(0, ceil(1.1 * qa_data_df[field].dropna().max()))\n",
    "    plt.legend()\n",
    "\n",
    "metricslist=list(metric_stats_over_time[\"metric_name\"].value_counts().index)\n",
    "print(metricslist)\n",
    "title=\"adview\"\n",
    "metric_qa_plot(metric_stats_over_time.loc[metric_stats_over_time[\"metric_name\"]==title], title)\n",
    "pass\n"
   ]
  },
  {
   "cell_type": "markdown",
   "metadata": {},
   "source": [
    "## data coverage (§3.8)"
   ]
  },
  {
   "cell_type": "code",
   "execution_count": 163,
   "metadata": {},
   "outputs": [
    {
     "name": "stdout",
     "output_type": "stream",
     "text": [
      "       n_account\n",
      "0              2\n",
      "1              2\n",
      "2              2\n",
      "3              2\n",
      "4              2\n",
      "...          ...\n",
      "11491          1\n",
      "11492          1\n",
      "11493          1\n",
      "11494          1\n",
      "11495          1\n",
      "\n",
      "[11496 rows x 1 columns]\n"
     ]
    }
   ],
   "source": [
    "\"\"\"\n",
    "with \n",
    "date_range as (     \n",
    "\tselect  '%from_yyyy-mm-dd'::timestamp as start_date,\n",
    "\t\t'%to_yyyy-mm-dd'::timestamp as end_date\n",
    "), account_count as (    \n",
    "\tselect count(distinct account_id) as n_account    \n",
    "\tfrom subscription s inner join date_range d on\n",
    "\t s.start_date <= d.end_date\n",
    "\tand (s.end_date >= d.start_date or s.end_date is null)\n",
    ")\n",
    "select metric_name, \n",
    "\tcount(distinct m.account_id) as count_with_metric,\n",
    "\tn_account as n_account,    \n",
    "\t(count(distinct m.account_id))::float/n_account::float as pcnt_with_metric    ,\n",
    "\tavg(metric_value) as avg_value,    \n",
    "\tmin(metric_value) as min_value,    \n",
    "\tmax(metric_value) as max_value,\n",
    "\tmin(metric_time)  as earliest_metric,\n",
    "\tmax(metric_time) as last_metric\n",
    "from metric m cross join account_count\n",
    "inner join date_range on    \n",
    "\tmetric_time >= start_date\n",
    "\tand metric_time <= end_date\n",
    "inner join metric_name  n on m.metric_name_id = n.metric_name_id\n",
    "inner join subscription s on s.account_id = m.account_id\n",
    "    and s.start_date <= m.metric_time\n",
    "    and (s.end_date >= m.metric_time or s.end_date is null)\n",
    "group by metric_name,n_account\n",
    "order by metric_name;\n",
    "\"\"\"\n",
    "\n",
    "#q_account_count = session.query(func.count(Subscription.account_id).label(\"n_account\"))\\\n",
    "#    .filter(Subscription.start_date <= d_end_date,\n",
    "#           or_(Subscription.end_date >= d_start_date, Subscription.end_date == None))\\\n",
    "#    .group_by(Subscription.account_id) \n",
    "#account_count = pd.read_sql(q_account_count.statement, engine)\n",
    "#print(account_count)\n",
    "q_account_count = session.query(Metric.metric_name_id, MetricName.metric_name, Metric.metric_time,\\\n",
    "                func.count(Metric.account_id).label(\"count_with_metric\"),\\\n",
    "                func.avg(Metric.metric_value).label(\"avg\"),\\\n",
    "                func.sum(Metric.metric_value).label(\"n_calc\"),\n",
    "                func.min(Metric.metric_value).label(\"min\"),\\\n",
    "                func.max(Metric.metric_value).label(\"max\"))\\\n",
    "    .filter(Subscription.start_date <= d_end_date,\n",
    "           or_(Subscription.end_date >= d_start_date, Subscription.end_date == None))\\\n",
    "    .group_by(Subscription.account_id) \n",
    "account_count = pd.read_sql(q_account_count.statement, engine)\n",
    "print(account_count)\n",
    "\n",
    "\n"
   ]
  }
 ],
 "metadata": {
  "kernelspec": {
   "display_name": "Python 3",
   "language": "python",
   "name": "python3"
  },
  "language_info": {
   "codemirror_mode": {
    "name": "ipython",
    "version": 3
   },
   "file_extension": ".py",
   "mimetype": "text/x-python",
   "name": "python",
   "nbconvert_exporter": "python",
   "pygments_lexer": "ipython3",
   "version": "3.8.0"
  }
 },
 "nbformat": 4,
 "nbformat_minor": 4
}
