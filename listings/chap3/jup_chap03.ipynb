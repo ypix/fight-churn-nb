{
 "cells": [
  {
   "cell_type": "code",
   "execution_count": 1,
   "metadata": {},
   "outputs": [],
   "source": [
    "import os\n",
    "from sqlalchemy import create_engine\n",
    "from sqlalchemy.orm import sessionmaker\n",
    "\n",
    "from churnmodels.schema import Subscription, Event, Account\n",
    "\n",
    "# the following example will depend on a sqlite db\n",
    "sqlfile=\"../churn.db\"\n",
    "engine = create_engine(f\"sqlite:///{sqlfile}\")\n",
    "session = sessionmaker(bind=engine)()\n"
   ]
  },
  {
   "cell_type": "code",
   "execution_count": 2,
   "metadata": {},
   "outputs": [],
   "source": [
    "from datetime import datetime\n",
    "from dateutil.relativedelta import relativedelta\n",
    "\n",
    "def days_between(d1, d2):\n",
    "    d1 = datetime.strptime(d1, \"%Y-%m-%d\")\n",
    "    d2 = datetime.strptime(d2, \"%Y-%m-%d\")\n",
    "    return abs((d2 - d1).days)\n",
    "\n"
   ]
  },
  {
   "cell_type": "code",
   "execution_count": 6,
   "metadata": {},
   "outputs": [],
   "source": [
    "from sqlalchemy import func, or_\n",
    "from churnmodels.schema import Account, Subscription, Event, EventType\n",
    "import pandas as pd\n",
    "\n",
    "d_start_date = \"2020-01-01\"\n",
    "d_end_date = \"2020-03-01\"\n",
    "\n",
    "d_start_date = \"2020-03-01\"\n",
    "d_end_date = \"2020-04-01\""
   ]
  },
  {
   "cell_type": "markdown",
   "metadata": {},
   "source": [
    "## event_count (§3.1)"
   ]
  },
  {
   "cell_type": "code",
   "execution_count": 18,
   "metadata": {},
   "outputs": [
    {
     "name": "stdout",
     "output_type": "stream",
     "text": [
      "event_type_name  adview  dislike   like  message  newfriend  post  reply  \\\n",
      "account_id                                                                 \n",
      "1                  14.0      7.0    8.0     18.0        2.0  17.0   15.0   \n",
      "2                  16.0     10.0   60.0      1.0        2.0  38.0    NaN   \n",
      "4                  21.0      NaN   62.0     33.0        8.0  27.0   14.0   \n",
      "5                   3.0      6.0   21.0     38.0        1.0  44.0   26.0   \n",
      "6                  21.0      1.0    9.0    165.0        NaN   9.0   22.0   \n",
      "...                 ...      ...    ...      ...        ...   ...    ...   \n",
      "12096              26.0      9.0   60.0      3.0        5.0  18.0    2.0   \n",
      "12097              11.0      8.0  107.0     67.0        1.0  23.0   15.0   \n",
      "12098              58.0     53.0   50.0    108.0        2.0   7.0   19.0   \n",
      "12099               1.0     47.0   64.0      NaN       14.0  17.0    NaN   \n",
      "12100              10.0      4.0    4.0    146.0        NaN   4.0   68.0   \n",
      "\n",
      "event_type_name  unfriend  \n",
      "account_id                 \n",
      "1                     NaN  \n",
      "2                     1.0  \n",
      "4                     NaN  \n",
      "5                     NaN  \n",
      "6                     1.0  \n",
      "...                   ...  \n",
      "12096                 NaN  \n",
      "12097                 NaN  \n",
      "12098                 NaN  \n",
      "12099                 NaN  \n",
      "12100                 NaN  \n",
      "\n",
      "[11427 rows x 8 columns]\n"
     ]
    }
   ],
   "source": [
    "d_the_date = \"2020-04-01\"\n",
    "the_date = datetime.strptime(d_the_date, \"%Y-%m-%d\")\n",
    "inactivity_interval=relativedelta(months=+1)\n",
    "the_date_int = the_date-inactivity_interval\n",
    "\n",
    "q_event_count = session.query(Event.account_id, EventType.event_type_name, func.count(Event.account_id).label(\"n_event2measure_permonth\"))\\\n",
    "    .filter(Event.event_time > the_date_int, Event.event_time <= the_date)\\\n",
    "    .join(EventType, EventType.event_type_id==Event.event_type_id)\\\n",
    "    .group_by(Event.account_id, EventType.event_type_name)\n",
    "\n",
    "event_count = pd.read_sql(q_event_count.statement, engine) #.set_index(\"account_id\")\n",
    "#print(event_count)\n",
    "\n",
    "# we do a pivot with pandas\n",
    "df_pivot = event_count.pivot(index=\"account_id\", columns=\"event_type_name\", values=\"n_event2measure_permonth\")\n",
    "print(df_pivot)"
   ]
  },
  {
   "cell_type": "markdown",
   "metadata": {},
   "source": [
    "## metrics count (§3.2)"
   ]
  },
  {
   "cell_type": "code",
   "execution_count": null,
   "metadata": {},
   "outputs": [],
   "source": []
  }
 ],
 "metadata": {
  "kernelspec": {
   "display_name": "Python 3",
   "language": "python",
   "name": "python3"
  },
  "language_info": {
   "codemirror_mode": {
    "name": "ipython",
    "version": 3
   },
   "file_extension": ".py",
   "mimetype": "text/x-python",
   "name": "python",
   "nbconvert_exporter": "python",
   "pygments_lexer": "ipython3",
   "version": "3.8.5"
  }
 },
 "nbformat": 4,
 "nbformat_minor": 4
}
