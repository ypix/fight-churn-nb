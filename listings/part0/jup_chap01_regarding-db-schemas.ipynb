{
 "cells": [
  {
   "cell_type": "markdown",
   "metadata": {},
   "source": [
    "## Schemas\n",
    "Some data bases are using schemas (e.g. PostGres).\n",
    "The schema information needs to be set before importing the churnmodels module - other the interface classes to the db will assume no schema\n",
    "\n",
    "To set the schema name set the environment variable \n",
    "> os.environ[\"CHURN_DB_SCHEMA\"]=\"some_schema\"\n",
    "\n",
    "Now the churnmodels module can be imported\n",
    "> from churnmodels.schema import Subscription, Event, Account\n",
    "\n",
    "... and the session variable can be instantiated\n"
   ]
  },
  {
   "cell_type": "markdown",
   "metadata": {},
   "source": [
    "## Annoying way of importing the churnmodels Schema Tables\n",
    "For data bases using schemas it is needed to get the schema information to python BEFORE we load in the Table classes.\n",
    "The module \"churnmodels.schema\" uses the environment variable CHURN_DB_SCHEMA for the schema name that it handed over to a MetaData instance for SQLAlchemy."
   ]
  },
  {
   "cell_type": "code",
   "execution_count": 2,
   "metadata": {},
   "outputs": [
    {
     "name": "stdout",
     "output_type": "stream",
     "text": [
      "SELECT biznet1.account.id, biznet1.account.channel, biznet1.account.date_of_birth, biznet1.account.country \n",
      "FROM biznet1.account\n",
      "          id    channel date_of_birth country\n",
      "0          1  appstore2    1981-03-26      DE\n",
      "1          2        web    1979-08-17      US\n",
      "2          3  appstore1    1972-11-02      MX\n",
      "3          4  appstore2    1976-02-08      GR\n",
      "4          5  appstore2    1973-07-25      MX\n",
      "...      ...        ...           ...     ...\n",
      "14636  14637  appstore2    1972-08-11      CA\n",
      "14637  14638  appstore2    1943-12-24      IN\n",
      "14638  14639  appstore2    1952-10-26      KR\n",
      "14639  14640  appstore2    1951-12-07      JP\n",
      "14640  14641  appstore2    1948-05-04      US\n",
      "\n",
      "[14641 rows x 4 columns]\n"
     ]
    }
   ],
   "source": [
    "import os\n",
    "from sqlalchemy import create_engine\n",
    "from sqlalchemy.orm import sessionmaker\n",
    "import pandas as pd\n",
    "\n",
    "options = {\"user\": \"postgres\",\n",
    "           \"pass\": \"password\",\n",
    "           \"dbname\": \"churn\",\n",
    "           \"schema\": \"biznet1\"\n",
    "           #\"host\" : \"localhost\" # ...if needed\n",
    "           #\"port\" : \"5432\" # ...if needed\n",
    "           }\n",
    "\n",
    "# !!!! important part\n",
    "# before even importing the churnmodels we need\n",
    "os.environ[\"CHURN_DB_SCHEMA\"]=options[\"schema\"]\n",
    "from churnmodels.schema import Subscription, Event, Account\n",
    "# !!!! important part (end)\n",
    "\n",
    "# connect to the database\n",
    "from churnmodels.schema import get_db_uri\n",
    "database_uri=get_db_uri(options, \"postgres\") # \"postgres\" names the dialect we are using\n",
    "engine = create_engine(database_uri)\n",
    "session = sessionmaker(bind=engine)()\n",
    "\n",
    "# creating a simple statement\n",
    "q=session.query(Account)\n",
    "df=pd.read_sql_query(q.statement, engine)\n",
    "\n",
    "print(q.statement)\n",
    "print(df)"
   ]
  },
  {
   "cell_type": "markdown",
   "metadata": {},
   "source": [
    "## The comfortable way: importing a reflexive Schema\n",
    "SQLAlchemy gives the opportunity to recovery the complete DDL information of a data base.\n",
    "By reflection technique of python we can read in a module dynamically containing classes wrapping our DB tables.\n"
   ]
  },
  {
   "cell_type": "code",
   "execution_count": 4,
   "metadata": {},
   "outputs": [
    {
     "name": "stdout",
     "output_type": "stream",
     "text": [
      "SELECT biznet1.account.id, biznet1.account.channel, biznet1.account.date_of_birth, biznet1.account.country \n",
      "FROM biznet1.account\n",
      "          id    channel date_of_birth country\n",
      "0          1  appstore2    1981-03-26      DE\n",
      "1          2        web    1979-08-17      US\n",
      "2          3  appstore1    1972-11-02      MX\n",
      "3          4  appstore2    1976-02-08      GR\n",
      "4          5  appstore2    1973-07-25      MX\n",
      "...      ...        ...           ...     ...\n",
      "14636  14637  appstore2    1972-08-11      CA\n",
      "14637  14638  appstore2    1943-12-24      IN\n",
      "14638  14639  appstore2    1952-10-26      KR\n",
      "14639  14640  appstore2    1951-12-07      JP\n",
      "14640  14641  appstore2    1948-05-04      US\n",
      "\n",
      "[14641 rows x 4 columns]\n"
     ]
    }
   ],
   "source": [
    "import os\n",
    "from sqlalchemy import create_engine\n",
    "from sqlalchemy.orm import sessionmaker\n",
    "import pandas as pd\n",
    "\n",
    "from churnmodels.schema import get_schema_rfl, get_db_uri\n",
    "\n",
    "options = {\"user\": \"postgres\",\n",
    "           \"pass\": \"password\",\n",
    "           \"dbname\": \"churn\",\n",
    "           \"schema\": \"biznet1\"\n",
    "           #\"host\" : \"localhost\" # ...if needed\n",
    "           #\"port\" : \"5432\" # ...if needed\n",
    "           }\n",
    "# tables is a (dynamical) module containg Wrapper classes for our data base\n",
    "tables=get_schema_rfl(options)\n",
    "\n",
    "# connect to the database\n",
    "db_uri=get_db_uri(options, \"postgres\") # \"postgres\" names the dialect we are using\n",
    "engine=create_engine(db_uri)\n",
    "session = sessionmaker(bind=engine)()\n",
    "\n",
    "# creating a simple statement\n",
    "q=session.query(tables.Account)\n",
    "df=pd.read_sql_query(q.statement, engine)\n",
    "\n",
    "print(q.statement)\n",
    "print(df)\n"
   ]
  }
 ],
 "metadata": {
  "kernelspec": {
   "display_name": "Python 3",
   "language": "python",
   "name": "python3"
  },
  "language_info": {
   "codemirror_mode": {
    "name": "ipython",
    "version": 3
   },
   "file_extension": ".py",
   "mimetype": "text/x-python",
   "name": "python",
   "nbconvert_exporter": "python",
   "pygments_lexer": "ipython3",
   "version": "3.8.0"
  }
 },
 "nbformat": 4,
 "nbformat_minor": 4
}
