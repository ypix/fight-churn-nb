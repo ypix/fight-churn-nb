{
 "cells": [
  {
   "cell_type": "markdown",
   "metadata": {},
   "source": [
    "## Adding additional functions to sqlite3"
   ]
  },
  {
   "cell_type": "markdown",
   "metadata": {},
   "source": [
    "1. install gcc: in case MinGW is not working on windows, an alternative would be [win-builds](http://win-builds.org/doku.php). Install and add path of gcc.exe to PATH environment variable.\n",
    "2. from [cloudmeters/sqlite](https://github.com/cloudmeter/sqlite) ...download only the file *sqlite3ext.h*\n",
    "3. Compile as described in the source file with\n",
    "    > gcc -shared -I \".\" -o libsqlitefunctions.DLL extension-functions.c\n",
    "4. locate the file \"sqlite3.dll\" from your python environment and add *libsqlitefunctions.DLL* to the folder.\n"
   ]
  },
  {
   "cell_type": "markdown",
   "metadata": {},
   "source": [
    "## Accessing extended functions in Python"
   ]
  },
  {
   "cell_type": "code",
   "execution_count": 4,
   "metadata": {},
   "outputs": [
    {
     "name": "stdout",
     "output_type": "stream",
     "text": [
      "       test\n",
      "0  2.302585\n"
     ]
    }
   ],
   "source": [
    "# I) creating an in-memory data base\n",
    "#    connection by \"engine\" object\n",
    "from sqlalchemy import create_engine\n",
    "sqlfile=\":memory:\"\n",
    "engine = create_engine(f\"sqlite:///{sqlfile}\")\n",
    "\n",
    "# II) Additional function being called when connecting to db\n",
    "#     make sure the library \"libsqlitefunctions.dll\" (windows) is located in the same directory of \"sqlite3.dll\"\n",
    "#     ... or, add file-path\n",
    "from sqlalchemy import event\n",
    "@event.listens_for(engine, \"connect\")\n",
    "def connect(dbapi_connection, connection_rec):\n",
    "    dbapi_connection.enable_load_extension(True)\n",
    "    dbapi_connection.execute('SELECT load_extension(\"libsqlitefunctions\")')\n",
    "\n",
    "# III) open the data base by factory/session object\n",
    "from sqlalchemy.orm import sessionmaker\n",
    "session = sessionmaker(bind=engine)()\n",
    "\n",
    "# IV) create an SQL statement with SQLAlchemy\n",
    "from sqlalchemy import literal, func\n",
    "subq=session.query(func.log(10).label(\"test\"))\n",
    "#subq=session.query(literal(10).label(\"test\"))\n",
    "\n",
    "# V) show the results with pandas\n",
    "import pandas as pd\n",
    "df=pd.read_sql(subq.statement, engine)\n",
    "print(df)"
   ]
  },
  {
   "cell_type": "markdown",
   "metadata": {},
   "source": [
    "## SQL statement"
   ]
  },
  {
   "cell_type": "code",
   "execution_count": 2,
   "metadata": {},
   "outputs": [
    {
     "name": "stdout",
     "output_type": "stream",
     "text": [
      "SELECT log(10) AS test\n"
     ]
    }
   ],
   "source": [
    "# have a look to the ra SQL\n",
    "def pretty_sql(q1):\n",
    "    import sqlparse\n",
    "    # debug: looking at the SQL pretty printed\n",
    "    text1=str(q1.statement.compile(engine, compile_kwargs={\"literal_binds\": True}))\n",
    "    text2=sqlparse.format(text1, reindent=True, keyword_case='upper')\n",
    "    return text2\n",
    "\n",
    "print(pretty_sql(subq))\n"
   ]
  }
 ],
 "metadata": {
  "kernelspec": {
   "display_name": "Python 3",
   "language": "python",
   "name": "python3"
  },
  "language_info": {
   "codemirror_mode": {
    "name": "ipython",
    "version": 3
   },
   "file_extension": ".py",
   "mimetype": "text/x-python",
   "name": "python",
   "nbconvert_exporter": "python",
   "pygments_lexer": "ipython3",
   "version": "3.8.5"
  }
 },
 "nbformat": 4,
 "nbformat_minor": 4
}
